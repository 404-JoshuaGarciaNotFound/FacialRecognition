{
 "cells": [
  {
   "cell_type": "code",
   "execution_count": 16,
   "metadata": {},
   "outputs": [],
   "source": [
    "#first we read from the solution of our dataset with what our facial recognition program should output\n",
    "import os\n",
    "\n",
    "CelebList = []\n",
    "#This will give you all of the names in each folder\n",
    "def ReadDirect(path):\n",
    "    directory = path\n",
    "    for file2 in os.listdir(directory):\n",
    "        #this is the directory of each celebrity\n",
    "        path2 = directory + file2\n",
    "        CelebList.append(path2)\n",
    "        print(path2)\n",
    "        #print(file2)\n"
   ]
  },
  {
   "cell_type": "code",
   "execution_count": 17,
   "metadata": {},
   "outputs": [
    {
     "name": "stdout",
     "output_type": "stream",
     "text": [
      "DatasetsToTest/TheOfficeDataset/Characters/Andy Bernard\n",
      "DatasetsToTest/TheOfficeDataset/Characters/Angela Martin\n",
      "DatasetsToTest/TheOfficeDataset/Characters/Creed Bratton\n",
      "DatasetsToTest/TheOfficeDataset/Characters/Darryl Philbin\n",
      "DatasetsToTest/TheOfficeDataset/Characters/Dwight Schrute\n",
      "DatasetsToTest/TheOfficeDataset/Characters/Erin Hannon\n",
      "DatasetsToTest/TheOfficeDataset/Characters/Jan Levinson\n",
      "DatasetsToTest/TheOfficeDataset/Characters/Jim Halpert\n",
      "DatasetsToTest/TheOfficeDataset/Characters/Kelly Kapoor\n",
      "DatasetsToTest/TheOfficeDataset/Characters/Michael Scott\n",
      "DatasetsToTest/TheOfficeDataset/Characters/Pam Beesly\n"
     ]
    }
   ],
   "source": [
    "path = 'DatasetsToTest/TheOfficeDataset/Characters/'\n",
    "ReadDirect(path)\n"
   ]
  },
  {
   "cell_type": "code",
   "execution_count": 18,
   "metadata": {},
   "outputs": [],
   "source": [
    "#this will get all of the pictures for each person\n",
    "def getPerson(path2):\n",
    "    for FilepathPhotos in os.listdir(path2):\n",
    "        print(FilepathPhotos)\n",
    "        #sol = file2 + '/' + FilepathPhotos\n",
    "        #SolutionList.append(sol)\n"
   ]
  },
  {
   "cell_type": "code",
   "execution_count": 19,
   "metadata": {},
   "outputs": [
    {
     "name": "stdout",
     "output_type": "stream",
     "text": [
      "AndyBernard_1.jpg\n",
      "AndyBernard_10.jpg\n",
      "AndyBernard_2.jpg\n",
      "AndyBernard_3.jpg\n",
      "AndyBernard_4.jpg\n",
      "AndyBernard_5.jpg\n",
      "AndyBernard_6.jpg\n",
      "AndyBernard_7.jpg\n",
      "AndyBernard_8.jpg\n",
      "AndyBernard_9.jpg\n",
      "AngelaMartin_1.jpg\n",
      "AngelaMartin_10.jpg\n",
      "AngelaMartin_2.jpg\n",
      "AngelaMartin_3.jpg\n",
      "AngelaMartin_4.jpg\n",
      "AngelaMartin_5.jpg\n",
      "AngelaMartin_6.jpg\n",
      "AngelaMartin_7.jpg\n",
      "AngelaMartin_8.jpg\n",
      "AngelaMartin_9.jpg\n",
      "CreedBratton_1.jpg\n",
      "CreedBratton_10.jpg\n",
      "CreedBratton_2.jpg\n",
      "CreedBratton_3.jpg\n",
      "CreedBratton_4.jpg\n",
      "CreedBratton_5.jpg\n",
      "CreedBratton_6.jpg\n",
      "CreedBratton_7.jpg\n",
      "CreedBratton_8.jpg\n",
      "CreedBratton_9.jpg\n",
      "DarrylPhilbin_1.jpg\n",
      "DarrylPhilbin_10.jpg\n",
      "DarrylPhilbin_2.jpg\n",
      "DarrylPhilbin_3.jpg\n",
      "DarrylPhilbin_4.jpg\n",
      "DarrylPhilbin_5.jpg\n",
      "DarrylPhilbin_6.jpg\n",
      "DarrylPhilbin_7.jpg\n",
      "DarrylPhilbin_8.jpg\n",
      "DarrylPhilbin_9.jpg\n",
      "DwightSchrute_1.jpg\n",
      "DwightSchrute_10.jpg\n",
      "DwightSchrute_2.jpg\n",
      "DwightSchrute_3.jpg\n",
      "DwightSchrute_4.jpg\n",
      "DwightSchrute_5.jpg\n",
      "DwightSchrute_6.jpg\n",
      "DwightSchrute_7.jpg\n",
      "DwightSchrute_8.jpg\n",
      "DwightSchrute_9.jpg\n",
      "ErinHannon_1.jpg\n",
      "ErinHannon_10.jpg\n",
      "ErinHannon_2.jpg\n",
      "ErinHannon_3.jpg\n",
      "ErinHannon_4.jpg\n",
      "ErinHannon_5.jpg\n",
      "ErinHannon_6.jpg\n",
      "ErinHannon_7.jpg\n",
      "ErinHannon_8.jpg\n",
      "ErinHannon_9.jpg\n",
      "JanLevinson_1.jpg\n",
      "JanLevinson_10.jpg\n",
      "JanLevinson_2.jpg\n",
      "JanLevinson_3.jpg\n",
      "JanLevinson_4.jpg\n",
      "JanLevinson_5.jpg\n",
      "JanLevinson_6.jpg\n",
      "JanLevinson_7.jpg\n",
      "JanLevinson_8.jpg\n",
      "JanLevinson_9.jpg\n",
      "JimHalpert_1.jpg\n",
      "JimHalpert_10.jpg\n",
      "JimHalpert_2.jpg\n",
      "JimHalpert_3.jpg\n",
      "JimHalpert_4.jpg\n",
      "JimHalpert_5.jpg\n",
      "JimHalpert_6.jpg\n",
      "JimHalpert_7.jpg\n",
      "JimHalpert_8.jpg\n",
      "JimHalpert_9.jpg\n",
      "KellyKapoor_1.jpg\n",
      "KellyKapoor_10.jpg\n",
      "KellyKapoor_2.jpg\n",
      "KellyKapoor_3.jpg\n",
      "KellyKapoor_4.jpg\n",
      "KellyKapoor_5.jpg\n",
      "KellyKapoor_6.jpg\n",
      "KellyKapoor_7.jpg\n",
      "KellyKapoor_8.jpg\n",
      "KellyKapoor_9.jpg\n",
      "MichaelScott_1.jpg\n",
      "MichaelScott_10.jpg\n",
      "MichaelScott_2.jpg\n",
      "MichaelScott_3.jpg\n",
      "MichaelScott_4.jpg\n",
      "MichaelScott_5.jpg\n",
      "MichaelScott_6.jpg\n",
      "MichaelScott_7.jpg\n",
      "MichaelScott_8.jpg\n",
      "MichaelScott_9.jpg\n",
      "PamBeesly_1.jpg\n",
      "PamBeesly_10.jpg\n",
      "PamBeesly_2.jpg\n",
      "PamBeesly_3.jpg\n",
      "PamBeesly_4.jpg\n",
      "PamBeesly_5.jpg\n",
      "PamBeesly_6.jpg\n",
      "PamBeesly_7.jpg\n",
      "PamBeesly_8.jpg\n",
      "PamBeesly_9.jpg\n"
     ]
    }
   ],
   "source": [
    "for b in CelebList:\n",
    "    getPerson(b)"
   ]
  },
  {
   "cell_type": "code",
   "execution_count": 20,
   "metadata": {},
   "outputs": [],
   "source": [
    "#if you want to write a file for each specific person you would do this\n",
    "#import cv2\n",
    "\n",
    "#writeToFolder = path\n",
    "# the name of pca should probably be uniform so\n",
    "# celebName_PCA\n",
    "\n",
    "# save image\n",
    "#cv2.imwrite('writeToFolder', celebName_PCA)\n"
   ]
  }
 ],
 "metadata": {
  "interpreter": {
   "hash": "409fd63ae0ed843f46d52ddbf6d5110d5f4156ce680b24ebaeed7f1f43c8d2b4"
  },
  "kernelspec": {
   "display_name": "Python 3.9.4 64-bit",
   "language": "python",
   "name": "python3"
  },
  "language_info": {
   "codemirror_mode": {
    "name": "ipython",
    "version": 3
   },
   "file_extension": ".py",
   "mimetype": "text/x-python",
   "name": "python",
   "nbconvert_exporter": "python",
   "pygments_lexer": "ipython3",
   "version": "3.9.4"
  },
  "orig_nbformat": 4
 },
 "nbformat": 4,
 "nbformat_minor": 2
}
