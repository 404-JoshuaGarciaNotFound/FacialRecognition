{
 "cells": [
  {
   "cell_type": "markdown",
   "metadata": {},
   "source": [
    "## This is an extra program that measures the accuracy of our facial recognition program"
   ]
  },
  {
   "cell_type": "code",
   "execution_count": 52,
   "metadata": {},
   "outputs": [],
   "source": [
    "import os\n",
    "import numpy as np"
   ]
  },
  {
   "cell_type": "code",
   "execution_count": 112,
   "metadata": {},
   "outputs": [],
   "source": [
    "#first we read from the solution of our dataset with what our facial recognition program should output \n",
    "\n",
    "SolutionList1 = []\n",
    "CharacterList = []\n",
    "\n",
    "def ReadDirect(path):\n",
    "    directory = path\n",
    "    for file2 in os.listdir(directory):\n",
    "        path2 = directory + file2\n",
    "        CharacterList.append(path2)\n",
    "        for FilepathPhotos in os.listdir(path2):\n",
    "            sol = file2 + '/' + FilepathPhotos\n",
    "            SolutionList1.append(sol)\n",
    "        \n",
    "\n",
    "    #print(np.shape(SolutionList))\n",
    "#SolutionList contains the file path to what photos are in each solution directory\n",
    "#EXAMPLE:\n",
    "#AndyBernard/AndyBernard_1.jpg, Andybernard/AndyBernardTest_1.jpg\n",
    "\n"
   ]
  },
  {
   "cell_type": "code",
   "execution_count": 113,
   "metadata": {},
   "outputs": [
    {
     "name": "stdout",
     "output_type": "stream",
     "text": [
      "['DatasetsToTest/TheOfficeDataset/Solutions/Andy Bernard', 'DatasetsToTest/TheOfficeDataset/Solutions/Angela Martin', 'DatasetsToTest/TheOfficeDataset/Solutions/Creed Bratton', 'DatasetsToTest/TheOfficeDataset/Solutions/Darryl Philbin', 'DatasetsToTest/TheOfficeDataset/Solutions/Dwight Schrute', 'DatasetsToTest/TheOfficeDataset/Solutions/Erin Hannon', 'DatasetsToTest/TheOfficeDataset/Solutions/Jim Halpert', 'DatasetsToTest/TheOfficeDataset/Solutions/Kelly Kapoor', 'DatasetsToTest/TheOfficeDataset/Solutions/Michael Scott', 'DatasetsToTest/TheOfficeDataset/Solutions/Pam Beesly']\n"
     ]
    },
    {
     "data": {
      "text/plain": [
       "['Andy Bernard/AndyBernardTest_1.jpg',\n",
       " 'Andy Bernard/AndyBernardTest_2.jpg',\n",
       " 'Andy Bernard/AndyBernard_1.jpg',\n",
       " 'Andy Bernard/AndyBernard_10.jpg',\n",
       " 'Andy Bernard/AndyBernard_2.jpg',\n",
       " 'Andy Bernard/AndyBernard_3.jpg',\n",
       " 'Andy Bernard/AndyBernard_4.jpg',\n",
       " 'Andy Bernard/AndyBernard_5.jpg',\n",
       " 'Andy Bernard/AndyBernard_6.jpg',\n",
       " 'Andy Bernard/AndyBernard_7.jpg',\n",
       " 'Andy Bernard/AndyBernard_8.jpg',\n",
       " 'Andy Bernard/AndyBernard_9.jpg',\n",
       " 'Angela Martin/AngelaMartinTest_1.jpg',\n",
       " 'Angela Martin/AngelaMartinTest_2.jpg',\n",
       " 'Angela Martin/AngelaMartin_1.jpg',\n",
       " 'Angela Martin/AngelaMartin_10.jpg',\n",
       " 'Angela Martin/AngelaMartin_2.jpg',\n",
       " 'Angela Martin/AngelaMartin_3.jpg',\n",
       " 'Angela Martin/AngelaMartin_4.jpg',\n",
       " 'Angela Martin/AngelaMartin_5.jpg',\n",
       " 'Angela Martin/AngelaMartin_6.jpg',\n",
       " 'Angela Martin/AngelaMartin_7.jpg',\n",
       " 'Angela Martin/AngelaMartin_8.jpg',\n",
       " 'Angela Martin/AngelaMartin_9.jpg',\n",
       " 'Creed Bratton/CreedBrattonTest_1.jpg',\n",
       " 'Creed Bratton/CreedBrattonTest_2.jpg',\n",
       " 'Creed Bratton/CreedBratton_1.jpg',\n",
       " 'Creed Bratton/CreedBratton_10.jpg',\n",
       " 'Creed Bratton/CreedBratton_2.jpg',\n",
       " 'Creed Bratton/CreedBratton_3.jpg',\n",
       " 'Creed Bratton/CreedBratton_4.jpg',\n",
       " 'Creed Bratton/CreedBratton_5.jpg',\n",
       " 'Creed Bratton/CreedBratton_6.jpg',\n",
       " 'Creed Bratton/CreedBratton_7.jpg',\n",
       " 'Creed Bratton/CreedBratton_8.jpg',\n",
       " 'Creed Bratton/CreedBratton_9.jpg',\n",
       " 'Darryl Philbin/DarrylPhilbinTest_1.jpg',\n",
       " 'Darryl Philbin/DarrylPhilbinTest_2.jpg',\n",
       " 'Darryl Philbin/DarrylPhilbin_1.jpg',\n",
       " 'Darryl Philbin/DarrylPhilbin_10.jpg',\n",
       " 'Darryl Philbin/DarrylPhilbin_2.jpg',\n",
       " 'Darryl Philbin/DarrylPhilbin_3.jpg',\n",
       " 'Darryl Philbin/DarrylPhilbin_4.jpg',\n",
       " 'Darryl Philbin/DarrylPhilbin_5.jpg',\n",
       " 'Darryl Philbin/DarrylPhilbin_6.jpg',\n",
       " 'Darryl Philbin/DarrylPhilbin_7.jpg',\n",
       " 'Darryl Philbin/DarrylPhilbin_8.jpg',\n",
       " 'Darryl Philbin/DarrylPhilbin_9.jpg',\n",
       " 'Dwight Schrute/DwightSchrute_1.jpg',\n",
       " 'Dwight Schrute/DwightSchrute_10.jpg',\n",
       " 'Dwight Schrute/DwightSchrute_2.jpg',\n",
       " 'Dwight Schrute/DwightSchrute_3.jpg',\n",
       " 'Dwight Schrute/DwightSchrute_4.jpg',\n",
       " 'Dwight Schrute/DwightSchrute_5.jpg',\n",
       " 'Dwight Schrute/DwightSchrute_6.jpg',\n",
       " 'Dwight Schrute/DwightSchrute_7.jpg',\n",
       " 'Dwight Schrute/DwightSchrute_8.jpg',\n",
       " 'Dwight Schrute/DwightSchrute_9.jpg',\n",
       " 'Dwight Schrute/DwightShruteTest_1.jpg',\n",
       " 'Dwight Schrute/DwightShruteTest_2.jpg',\n",
       " 'Erin Hannon/ErinHannonTest_1.jpg',\n",
       " 'Erin Hannon/ErinHannonTest_2.jpg',\n",
       " 'Erin Hannon/ErinHannon_1.jpg',\n",
       " 'Erin Hannon/ErinHannon_10.jpg',\n",
       " 'Erin Hannon/ErinHannon_2.jpg',\n",
       " 'Erin Hannon/ErinHannon_3.jpg',\n",
       " 'Erin Hannon/ErinHannon_4.jpg',\n",
       " 'Erin Hannon/ErinHannon_5.jpg',\n",
       " 'Erin Hannon/ErinHannon_6.jpg',\n",
       " 'Erin Hannon/ErinHannon_7.jpg',\n",
       " 'Erin Hannon/ErinHannon_8.jpg',\n",
       " 'Erin Hannon/ErinHannon_9.jpg',\n",
       " 'Jim Halpert/JimHalpertTest_1.jpg',\n",
       " 'Jim Halpert/JimHalpertTest_2.jpg',\n",
       " 'Jim Halpert/JimHalpert_1.jpg',\n",
       " 'Jim Halpert/JimHalpert_10.jpg',\n",
       " 'Jim Halpert/JimHalpert_2.jpg',\n",
       " 'Jim Halpert/JimHalpert_3.jpg',\n",
       " 'Jim Halpert/JimHalpert_4.jpg',\n",
       " 'Jim Halpert/JimHalpert_5.jpg',\n",
       " 'Jim Halpert/JimHalpert_6.jpg',\n",
       " 'Jim Halpert/JimHalpert_7.jpg',\n",
       " 'Jim Halpert/JimHalpert_8.jpg',\n",
       " 'Jim Halpert/JimHalpert_9.jpg',\n",
       " 'Kelly Kapoor/KellyKapoorTest_1.jpg',\n",
       " 'Kelly Kapoor/KellyKapoorTest_2.jpg',\n",
       " 'Kelly Kapoor/KellyKapoor_1.jpg',\n",
       " 'Kelly Kapoor/KellyKapoor_10.jpg',\n",
       " 'Kelly Kapoor/KellyKapoor_2.jpg',\n",
       " 'Kelly Kapoor/KellyKapoor_3.jpg',\n",
       " 'Kelly Kapoor/KellyKapoor_4.jpg',\n",
       " 'Kelly Kapoor/KellyKapoor_5.jpg',\n",
       " 'Kelly Kapoor/KellyKapoor_6.jpg',\n",
       " 'Kelly Kapoor/KellyKapoor_7.jpg',\n",
       " 'Kelly Kapoor/KellyKapoor_8.jpg',\n",
       " 'Kelly Kapoor/KellyKapoor_9.jpg',\n",
       " 'Michael Scott/MichaelScottTest_1.jpg',\n",
       " 'Michael Scott/MichaelScottTest_2.jpg',\n",
       " 'Michael Scott/MichaelScott_1.jpg',\n",
       " 'Michael Scott/MichaelScott_10.jpg',\n",
       " 'Michael Scott/MichaelScott_2.jpg',\n",
       " 'Michael Scott/MichaelScott_3.jpg',\n",
       " 'Michael Scott/MichaelScott_4.jpg',\n",
       " 'Michael Scott/MichaelScott_5.jpg',\n",
       " 'Michael Scott/MichaelScott_6.jpg',\n",
       " 'Michael Scott/MichaelScott_7.jpg',\n",
       " 'Michael Scott/MichaelScott_8.jpg',\n",
       " 'Michael Scott/MichaelScott_9.jpg',\n",
       " 'Pam Beesly/PamBeeslyTest_1.jpg',\n",
       " 'Pam Beesly/PamBeeslyTest_2.jpg',\n",
       " 'Pam Beesly/PamBeesly_1.jpg',\n",
       " 'Pam Beesly/PamBeesly_10.jpg',\n",
       " 'Pam Beesly/PamBeesly_2.jpg',\n",
       " 'Pam Beesly/PamBeesly_3.jpg',\n",
       " 'Pam Beesly/PamBeesly_4.jpg',\n",
       " 'Pam Beesly/PamBeesly_5.jpg',\n",
       " 'Pam Beesly/PamBeesly_6.jpg',\n",
       " 'Pam Beesly/PamBeesly_7.jpg',\n",
       " 'Pam Beesly/PamBeesly_8.jpg',\n",
       " 'Pam Beesly/PamBeesly_9.jpg']"
      ]
     },
     "execution_count": 113,
     "metadata": {},
     "output_type": "execute_result"
    }
   ],
   "source": [
    "#This is the path of the characters\n",
    "path = 'DatasetsToTest/TheOfficeDataset/Solutions/'\n",
    "ReadDirect(path)\n",
    "print(CharacterList)\n",
    "\n"
   ]
  },
  {
   "cell_type": "code",
   "execution_count": 114,
   "metadata": {},
   "outputs": [],
   "source": [
    "#Then we read our actual solutions our facial recognition program output\n",
    "OurSolutionList = []\n",
    "def ReadDirect(path):\n",
    "    directory = path\n",
    "    \n",
    "    for file2 in os.listdir(directory):\n",
    "        path2 = directory + file2\n",
    "        for FilepathPhotos in os.listdir(path2):\n",
    "            sol = file2 + '/' + FilepathPhotos\n",
    "            OurSolutionList.append(sol)\n",
    "    print(np.shape(OurSolutionList))\n",
    "\n",
    "\n"
   ]
  },
  {
   "cell_type": "code",
   "execution_count": 115,
   "metadata": {},
   "outputs": [
    {
     "name": "stdout",
     "output_type": "stream",
     "text": [
      "(111,)\n"
     ]
    }
   ],
   "source": [
    "path = 'Output/'\n",
    "ReadDirect(path)"
   ]
  },
  {
   "cell_type": "code",
   "execution_count": 149,
   "metadata": {},
   "outputs": [
    {
     "data": {
      "text/plain": [
       "20"
      ]
     },
     "execution_count": 149,
     "metadata": {},
     "output_type": "execute_result"
    }
   ],
   "source": [
    "#Finally we compare from what our facial recognition program output to what the actual solutions are\n",
    "SOlMissing = []\n",
    "numElements = 0\n",
    "numPeople = 0\n",
    "for element in SolutionList1:\n",
    "    if (element in OurSolutionList) == True:\n",
    "        if('Test' in element) == True:\n",
    "            numElements = numElements + 1\n",
    "            numPeople = numPeople + 1\n",
    "    else:\n",
    "        if('Test' in element) == True:\n",
    "            SOlMissing.append(element)\n",
    "            numPeople = numPeople + 1\n",
    "\n",
    "\n",
    "accuracy = numElements/numPeople\n",
    "\n",
    "\n"
   ]
  },
  {
   "cell_type": "code",
   "execution_count": 150,
   "metadata": {},
   "outputs": [
    {
     "name": "stdout",
     "output_type": "stream",
     "text": [
      "our code has an accuracy of: 0.45%\n"
     ]
    }
   ],
   "source": [
    "#This is our accuracy for this dataset\n",
    "print(\"our code has an accuracy of: \" + str(accuracy) + \"%\")\n"
   ]
  },
  {
   "cell_type": "code",
   "execution_count": 151,
   "metadata": {},
   "outputs": [
    {
     "data": {
      "text/plain": [
       "['Andy Bernard/AndyBernardTest_1.jpg',\n",
       " 'Andy Bernard/AndyBernardTest_2.jpg',\n",
       " 'Darryl Philbin/DarrylPhilbinTest_1.jpg',\n",
       " 'Dwight Schrute/DwightShruteTest_1.jpg',\n",
       " 'Dwight Schrute/DwightShruteTest_2.jpg',\n",
       " 'Erin Hannon/ErinHannonTest_1.jpg',\n",
       " 'Jim Halpert/JimHalpertTest_1.jpg',\n",
       " 'Jim Halpert/JimHalpertTest_2.jpg',\n",
       " 'Kelly Kapoor/KellyKapoorTest_1.jpg',\n",
       " 'Michael Scott/MichaelScottTest_2.jpg',\n",
       " 'Pam Beesly/PamBeeslyTest_1.jpg']"
      ]
     },
     "execution_count": 151,
     "metadata": {},
     "output_type": "execute_result"
    }
   ],
   "source": [
    "#This cell tells us which elements were not accurately classified \n",
    "SOlMissing"
   ]
  }
 ],
 "metadata": {
  "interpreter": {
   "hash": "409fd63ae0ed843f46d52ddbf6d5110d5f4156ce680b24ebaeed7f1f43c8d2b4"
  },
  "kernelspec": {
   "display_name": "Python 3.9.4 64-bit",
   "language": "python",
   "name": "python3"
  },
  "language_info": {
   "codemirror_mode": {
    "name": "ipython",
    "version": 3
   },
   "file_extension": ".py",
   "mimetype": "text/x-python",
   "name": "python",
   "nbconvert_exporter": "python",
   "pygments_lexer": "ipython3",
   "version": "3.9.4"
  },
  "orig_nbformat": 4
 },
 "nbformat": 4,
 "nbformat_minor": 2
}
