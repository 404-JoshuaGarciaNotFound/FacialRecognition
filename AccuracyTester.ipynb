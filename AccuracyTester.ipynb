{
 "cells": [
  {
   "cell_type": "markdown",
   "metadata": {},
   "source": [
    "## This is an extra program that measures the accuracy of our facial recognition program"
   ]
  },
  {
   "cell_type": "code",
   "execution_count": 122,
   "metadata": {},
   "outputs": [],
   "source": [
    "import os\n",
    "import numpy as np"
   ]
  },
  {
   "cell_type": "code",
   "execution_count": 123,
   "metadata": {},
   "outputs": [],
   "source": [
    "#first we read from the solution of our dataset with what our facial recognition program should output \n",
    "\n",
    "SolutionList = []\n",
    "\n",
    "def ReadDirect(path):\n",
    "    directory = path\n",
    "    for file2 in os.listdir(directory):\n",
    "        path2 = directory + file2\n",
    "        for FilepathPhotos in os.listdir(path2):\n",
    "            sol = file2 + '/' + FilepathPhotos\n",
    "            SolutionList.append(sol)\n",
    "\n",
    "    print(np.shape(SolutionList))\n",
    "#SolutionList contains the file path to what photos are in each solution directory\n",
    "#EXAMPLE:\n",
    "#AndyBernard/AndyBernard_1.jpg, Andybernard/AndyBernardTest_1.jpg\n"
   ]
  },
  {
   "cell_type": "code",
   "execution_count": 124,
   "metadata": {},
   "outputs": [
    {
     "name": "stdout",
     "output_type": "stream",
     "text": [
      "(132,)\n"
     ]
    }
   ],
   "source": [
    "path = 'DatasetsToTest/TheOfficeDataset/Solutions/'\n",
    "ReadDirect(path)\n"
   ]
  },
  {
   "cell_type": "code",
   "execution_count": 125,
   "metadata": {},
   "outputs": [],
   "source": [
    "#Then we read our actual solutions our facial recognition program output\n",
    "OurSolutionList = []\n",
    "def ReadDirect(path):\n",
    "    directory = path\n",
    "    for file2 in os.listdir(directory):\n",
    "        path2 = directory + file2\n",
    "        for FilepathPhotos in os.listdir(path2):\n",
    "            sol = file2 + '/' + FilepathPhotos\n",
    "            OurSolutionList.append(sol)\n",
    "\n",
    "    print(np.shape(OurSolutionList))\n"
   ]
  },
  {
   "cell_type": "code",
   "execution_count": 126,
   "metadata": {},
   "outputs": [
    {
     "name": "stdout",
     "output_type": "stream",
     "text": [
      "(231,)\n"
     ]
    }
   ],
   "source": [
    "path = 'Output/'\n",
    "ReadDirect(path)\n"
   ]
  },
  {
   "cell_type": "code",
   "execution_count": 127,
   "metadata": {},
   "outputs": [],
   "source": [
    "#Finally we compare from what our facial recognition program output to what the actual solutions are\n",
    "numElements = 0\n",
    "for element in SolutionList:\n",
    "    if (element in OurSolutionList) == True:\n",
    "        numElements = numElements + 1\n",
    "\n",
    "\n",
    "NumPeople = np.shape(SolutionList)\n",
    "NumPeople = NumPeople[0]\n",
    "accuracy = numElements/NumPeople\n"
   ]
  },
  {
   "cell_type": "code",
   "execution_count": 129,
   "metadata": {},
   "outputs": [
    {
     "name": "stdout",
     "output_type": "stream",
     "text": [
      "our code has an accuracy of: 0.0%\n"
     ]
    }
   ],
   "source": [
    "#This is our accuracy for this dataset\n",
    "print(\"our code has an accuracy of: \" + str(accuracy) + \"%\")\n"
   ]
  },
  {
   "cell_type": "code",
   "execution_count": null,
   "metadata": {},
   "outputs": [],
   "source": []
  }
 ],
 "metadata": {
  "interpreter": {
   "hash": "409fd63ae0ed843f46d52ddbf6d5110d5f4156ce680b24ebaeed7f1f43c8d2b4"
  },
  "kernelspec": {
   "display_name": "Python 3.9.4 64-bit",
   "language": "python",
   "name": "python3"
  },
  "language_info": {
   "codemirror_mode": {
    "name": "ipython",
    "version": 3
   },
   "file_extension": ".py",
   "mimetype": "text/x-python",
   "name": "python",
   "nbconvert_exporter": "python",
   "pygments_lexer": "ipython3",
   "version": "3.9.4"
  },
  "orig_nbformat": 4
 },
 "nbformat": 4,
 "nbformat_minor": 2
}
