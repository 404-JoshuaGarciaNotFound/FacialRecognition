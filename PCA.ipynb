{
 "cells": [
  {
   "cell_type": "code",
   "execution_count": 44,
   "metadata": {},
   "outputs": [],
   "source": [
    "import os\n",
    "import cv2\n",
    "import numpy as np\n",
    "from matplotlib import pyplot as plt\n",
    "import numpy as np\n",
    "from PIL import Image\n",
    "\n",
    "import numpy as np\n",
    "#matrix operations- matlab is better for matrix, but this helps python\n",
    "import scipy.io as sio\n",
    "import matplotlib\n",
    "import matplotlib.pyplot as plt\n",
    "from numpy.matlib import repmat\n",
    "#contains some operations done in matlab\n",
    "from sklearn.preprocessing import normalize\n",
    "#huge library for ML- use normalize- convert vector to unit vector\n",
    "\n",
    "%matplotlib inline"
   ]
  },
  {
   "cell_type": "code",
   "execution_count": 50,
   "metadata": {},
   "outputs": [
    {
     "name": "stdout",
     "output_type": "stream",
     "text": [
      "O\n",
      "u\n",
      "t\n",
      "p\n",
      "u\n",
      "t\n",
      "/\n",
      "A\n",
      "n\n",
      "d\n",
      "y\n",
      " \n",
      "B\n",
      "e\n",
      "r\n",
      "n\n",
      "a\n",
      "r\n",
      "d\n",
      "O\n",
      "u\n",
      "t\n",
      "p\n",
      "u\n",
      "t\n",
      "/\n",
      "A\n",
      "n\n",
      "g\n",
      "e\n",
      "l\n",
      "a\n",
      " \n",
      "M\n",
      "a\n",
      "r\n",
      "t\n",
      "i\n",
      "n\n",
      "O\n",
      "u\n",
      "t\n",
      "p\n",
      "u\n",
      "t\n",
      "/\n",
      "C\n",
      "r\n",
      "e\n",
      "e\n",
      "d\n",
      " \n",
      "B\n",
      "r\n",
      "a\n",
      "t\n",
      "t\n",
      "o\n",
      "n\n",
      "O\n",
      "u\n",
      "t\n",
      "p\n",
      "u\n",
      "t\n",
      "/\n",
      "D\n",
      "a\n",
      "r\n",
      "r\n",
      "y\n",
      "l\n",
      " \n",
      "P\n",
      "h\n",
      "i\n",
      "l\n",
      "b\n",
      "i\n",
      "n\n",
      "O\n",
      "u\n",
      "t\n",
      "p\n",
      "u\n",
      "t\n",
      "/\n",
      "D\n",
      "w\n",
      "i\n",
      "g\n",
      "h\n",
      "t\n",
      " \n",
      "S\n",
      "c\n",
      "h\n",
      "r\n",
      "u\n",
      "t\n",
      "e\n",
      "O\n",
      "u\n",
      "t\n",
      "p\n",
      "u\n",
      "t\n",
      "/\n",
      "E\n",
      "r\n",
      "i\n",
      "n\n",
      " \n",
      "H\n",
      "a\n",
      "n\n",
      "n\n",
      "o\n",
      "n\n",
      "O\n",
      "u\n",
      "t\n",
      "p\n",
      "u\n",
      "t\n",
      "/\n",
      "J\n",
      "a\n",
      "n\n",
      " \n",
      "L\n",
      "e\n",
      "v\n",
      "i\n",
      "n\n",
      "s\n",
      "o\n",
      "n\n",
      "O\n",
      "u\n",
      "t\n",
      "p\n",
      "u\n",
      "t\n",
      "/\n",
      "J\n",
      "i\n",
      "m\n",
      " \n",
      "H\n",
      "a\n",
      "l\n",
      "p\n",
      "e\n",
      "r\n",
      "t\n",
      "O\n",
      "u\n",
      "t\n",
      "p\n",
      "u\n",
      "t\n",
      "/\n",
      "K\n",
      "e\n",
      "l\n",
      "l\n",
      "y\n",
      " \n",
      "K\n",
      "a\n",
      "p\n",
      "o\n",
      "o\n",
      "r\n",
      "O\n",
      "u\n",
      "t\n",
      "p\n",
      "u\n",
      "t\n",
      "/\n",
      "M\n",
      "i\n",
      "c\n",
      "h\n",
      "a\n",
      "e\n",
      "l\n",
      " \n",
      "S\n",
      "c\n",
      "o\n",
      "t\n",
      "t\n",
      "O\n",
      "u\n",
      "t\n",
      "p\n",
      "u\n",
      "t\n",
      "/\n",
      "P\n",
      "a\n",
      "m\n",
      " \n",
      "B\n",
      "e\n",
      "e\n",
      "s\n",
      "l\n",
      "y\n"
     ]
    }
   ],
   "source": [
    "filePathToCLear = 'Output/'\n",
    "for people in os.listdir(filePathToCLear):\n",
    "    for dir in ('Output/' + people):\n",
    "        print(dir)\n",
    "        #os.remove(dir)\n"
   ]
  },
  {
   "cell_type": "code",
   "execution_count": 51,
   "metadata": {},
   "outputs": [],
   "source": [
    "#this is from Cogs 118B HW 4\n",
    "\n",
    "def eigsort(V, eigvals):\n",
    "# Sort the eigenvalues from largest to smallest. Store the sorted # eigenvalues in the column vector lambd.\n",
    "    lohival = np.sort(eigvals)\n",
    "    lohiindex = np.argsort(eigvals)\n",
    "    lambd = np.flip(lohival)\n",
    "    index = np.flip(lohiindex)\n",
    "    Dsort = np.diag(lambd)\n",
    "    # Sort eigenvectors to correspond to the ordered eigenvalues. Store sorted\n",
    "\n",
    "    # eigenvectors as columns of the matrix vsort.\n",
    "    M = np.size(lambd) \n",
    "    Vsort = np.zeros((M, M)) \n",
    "    for i in range(M):\n",
    "        Vsort[:,i] = V[:,index[i]] \n",
    "    return Vsort, Dsort"
   ]
  },
  {
   "cell_type": "code",
   "execution_count": 52,
   "metadata": {},
   "outputs": [],
   "source": [
    "#this is from Cogs 118B HW 4\n",
    "\n",
    "def normc(Mat):\n",
    "    return normalize(Mat, norm='l2', axis=0)"
   ]
  },
  {
   "cell_type": "code",
   "execution_count": 53,
   "metadata": {},
   "outputs": [],
   "source": [
    "def viewvector(columnvector):\n",
    "    #This transforms the numeric vector(62500,0) of the image back into a 250 by 250 image\n",
    "    \n",
    "    plt.imshow(columnvector.reshape([250, 250], order='C'), cmap=plt.get_cmap('gray'))\n",
    "\n",
    "\n"
   ]
  },
  {
   "cell_type": "code",
   "execution_count": 54,
   "metadata": {},
   "outputs": [],
   "source": [
    "def meanface(newDir):\n",
    "    \n",
    "    photosDirectory_1 = np.array(newDir)\n",
    "    \n",
    "    \n",
    "    number_of_photos = 10\n",
    "    #we want to iterate through all the photos\n",
    "    faces = []\n",
    "    #as we iterate, we will want to append the outcomes\n",
    "    \n",
    "\n",
    "\n",
    "    \n",
    "    \n",
    "    for i in range(number_of_photos):\n",
    "        \n",
    "        photo_numbers = cv2.imread(photosDirectory_1[i], 0)\n",
    "        photo_array = np.array(photo_numbers)\n",
    "        photo_array_reshaped = photo_array.reshape([62500, ])\n",
    "    \n",
    "        faces.append(photo_array_reshaped)\n",
    "    \n",
    "    #turn the faces list into an array\n",
    "    #transpose the array\n",
    "    faces = np.array(faces)\n",
    "    faces = faces.T\n",
    "    \n",
    "    meanface = np.mean(faces, axis = 1)\n",
    "    #sum along column direction, so axis = 1 (this is because each column is a unique image)\n",
    "    #this is the same as (sum(faces, axis = 1)/ 48)\n",
    "    meanface = meanface[:, np.newaxis]\n",
    "    \n",
    "    return meanface"
   ]
  },
  {
   "cell_type": "code",
   "execution_count": 55,
   "metadata": {},
   "outputs": [],
   "source": [
    "def PCA(newDir):\n",
    "    \n",
    "    photosDirectory_1 = np.array(newDir)\n",
    "    \n",
    "    \n",
    "    number_of_photos = len(newDir)\n",
    "    #we want to iterate through all the photos\n",
    "    faces = []\n",
    "    #as we iterate, we will want to append the outcomes\n",
    "    \n",
    "\n",
    "\n",
    "    \n",
    "    \n",
    "    for i in range(number_of_photos):\n",
    "    \n",
    "        #for photo in photo directory\n",
    "        #get the numeric interpretation\n",
    "        #turn that into an array\n",
    "        #Reshape the 250 pixels by 250 pixels into a vector\n",
    "        #append the vector to the faces list\n",
    "        \n",
    "    \n",
    "        \n",
    "        photo_numbers = cv2.imread(photosDirectory_1[i], 0)\n",
    "        photo_array = np.array(photo_numbers)\n",
    "        photo_array_reshaped = photo_array.reshape([62500, ])\n",
    "    \n",
    "        faces.append(photo_array_reshaped)\n",
    "    \n",
    "    #turn the faces list into an array\n",
    "    #transpose the array\n",
    "    faces = np.array(faces)\n",
    "    faces = faces.T\n",
    "    \n",
    "    \n",
    "    \n",
    "    meanface = np.mean(faces, axis = 1)\n",
    "    #sum along column direction, so axis = 1 (this is because each column is a unique image)\n",
    "    #this is the same as (sum(faces, axis = 1)/ 48)\n",
    "    meanface = meanface[:, np.newaxis]\n",
    "    \n",
    "    \n",
    "    \n",
    "    A = faces - np.matlib.repmat(meanface, 1, 10)\n",
    "    \n",
    "    eigvals, Vold = np.linalg.eig(A.T.dot(A))\n",
    "    V, D = eigsort(Vold, eigvals)\n",
    "    \n",
    "    U = A.dot(V)\n",
    "    U = normc(U)\n",
    "    c = U.T.dot(A)\n",
    "    "
   ]
  },
  {
   "cell_type": "code",
   "execution_count": 56,
   "metadata": {},
   "outputs": [],
   "source": [
    "from PIL import Image\n",
    "\n",
    "\n",
    "photosDirectory = []\n",
    "CelebList = []\n",
    "#First we load all of our files. \n",
    "def ReadDirect(path):\n",
    "    directory = path\n",
    "    for file2 in os.listdir(directory):\n",
    "        path2 = directory + file2 \n",
    "        CelebList.append(path2)\n",
    "        pathForTemp = \"Output/\" + file2\n",
    "        try:\n",
    "            os.makedirs(pathForTemp)\n",
    "        except:\n",
    "            VOID = \"do nothing :)\"\n",
    "            #This is just to skip the file already exists error\n",
    "        for FilepathPhotos in os.listdir(path2):\n",
    "            pathForPhoto = path2 + \"/\" + FilepathPhotos\n",
    "            photosDirectory.append(pathForPhoto)\n",
    "            #Dont run this code it opens every single image. (Good to see what images are being used)\n",
    "            #image = Image.open(pathForPhoto) \n",
    "            #image.show()\n",
    "#photosDirectory stores the file path for each image we are gonna use\n",
    "#photosDirectory\n",
    "\n"
   ]
  },
  {
   "cell_type": "code",
   "execution_count": 57,
   "metadata": {},
   "outputs": [],
   "source": [
    "path = 'DatasetsToTest/TheOfficeDataset/Characters/'\n",
    "ReadDirect(path)"
   ]
  },
  {
   "cell_type": "code",
   "execution_count": 58,
   "metadata": {},
   "outputs": [],
   "source": [
    "#Now we make a function that finds the faces of each picture\n",
    "FaceDat = cv2.CascadeClassifier(\"TrainingData/haarcascade_frontalface_default.xml\")\n",
    "EyeDat = cv2.CascadeClassifier(\"TrainingData/haarcascade_eye.xml\")\n",
    "def faceDetect(path, newDir):\n",
    "    Photo = cv2.imread(path)\n",
    "    \n",
    "    #Blur to remove extra noise\n",
    "    Photo2 = cv2.medianBlur(Photo, 3) \n",
    "    grysc = cv2.cvtColor(Photo2, cv2.COLOR_BGR2GRAY)\n",
    "    faceDetected = FaceDat.detectMultiScale(grysc, 1.1, 4)\n",
    "    eyeDetected = EyeDat.detectMultiScale(grysc, 1.3, 4)\n",
    "    #This area ensures only one face is found per image\n",
    "    facialPadding = 20\n",
    "    #The way the algorithm works is it puts faces its less confident in first and most confident last so if multiple pictures are found we just pick the last one.\n",
    "    #Should work most of the time\n",
    "    faceFound = False\n",
    "    if(len(faceDetected) != 1):\n",
    "        \n",
    "        #Gets eye coordinate\n",
    "        count = 0\n",
    "        eye1xCord = 0\n",
    "        eye1ycord = 0\n",
    "        eye2xCord = 0\n",
    "        eye2ycord = 0\n",
    "        for(ex, ey, ew, eh) in eyeDetected:\n",
    "            #Ensures only two eyes are added to the image\n",
    "            if(count < 2):\n",
    "                #cv2.rectangle(Photo, ((ex), (ey)),((ex+ew), (ey+eh)), (0, 0, 255), 2)\n",
    "                cv2.imwrite(newDir, Photo, [cv2.IMWRITE_JPEG_QUALITY, 100])\n",
    "                if(count == 0):\n",
    "                    eye1xCord = ex\n",
    "                    eye1ycord = ey\n",
    "                if(count == 1):\n",
    "                    eye2xCord = ex\n",
    "                    eye2ycord = ey\n",
    "                count = count + 1\n",
    "        \n",
    "        numFaces = len(faceDetected)\n",
    "        \n",
    "        for i in range(numFaces):\n",
    "            x1, y1, w1, h1 = faceDetected[i]\n",
    "            xrang = x1 + w1\n",
    "            yrang = y1 + h1\n",
    "            if(eye1xCord, eye2xCord != 0):\n",
    "                eye1Exist = True\n",
    "            if(eye2xCord, eye2ycord != 0):\n",
    "                eye2Exist = True\n",
    "            #if eyes arent found then we shouldn't put the face because it could lead to errors in our mean faces.\n",
    "            if(eye1Exist, eye2Exist == True):\n",
    "                if(faceFound == False):\n",
    "                    if(eye1xCord > x1):\n",
    "                        if(eye1xCord < xrang):  \n",
    "                            if(eye1ycord > y1):\n",
    "                                if(eye1ycord < yrang):\n",
    "                                    faceFound = True\n",
    "                                    #For our paper we can use these rectangles to visualize what we are doing\n",
    "                                    #cv2.rectangle(Photo, ((x1 - facialPadding), (y1 - facialPadding)),((x1+w1+facialPadding), (y1+h1+facialPadding)), (134, 255, 20), 2)\n",
    "                                    faceModified = Photo[y1-facialPadding:y1 +facialPadding+h1, x1-facialPadding:x1+facialPadding+w1]\n",
    "                                    photo = cv2.resize(faceModified, (250, 250))\n",
    "                                    cv2.imwrite(newDir, photo, [cv2.IMWRITE_JPEG_QUALITY, 100])\n",
    "\n",
    "    else:\n",
    "        (x, y, w, h) = faceDetected[0]\n",
    "        faceFound = True\n",
    "        faceModified = Photo[y-facialPadding:y+facialPadding+h,x-facialPadding:x+facialPadding+w]\n",
    "        photo1 = cv2.resize(faceModified, (250, 250))\n",
    "        cv2.imwrite(newDir, photo1, [cv2.IMWRITE_JPEG_QUALITY, 100])\n",
    "        \n",
    "    if(faceFound == False):\n",
    "        #Delete faces that couldn't be centered\n",
    "        try:\n",
    "            os.remove(newDir)\n",
    "        except:\n",
    "            alreadyRemoved = 0\n"
   ]
  },
  {
   "cell_type": "code",
   "execution_count": 59,
   "metadata": {},
   "outputs": [],
   "source": [
    "newDir = []\n",
    "for photos in photosDirectory:\n",
    "    temp = photos.replace(path, \"Output/\")\n",
    "    #print(newDir)\n",
    "    faceDetect(photos, temp)\n",
    "    newDir.append(temp)"
   ]
  },
  {
   "cell_type": "code",
   "execution_count": null,
   "metadata": {},
   "outputs": [
    {
     "data": {
      "image/png": "[encoded data removed]",
      "text/plain": [
       "<Figure size 432x288 with 1 Axes>"
      ]
     },
     "metadata": {
      "needs_background": "light"
     },
     "output_type": "display_data"
    }
   ],
   "source": [
    "viewvector(cv2.imread(newDir[0], 0))"
   ]
  },
  {
   "cell_type": "code",
   "execution_count": null,
   "metadata": {},
   "outputs": [],
   "source": [
    "from os.path import exists\n",
    "\n",
    "#First remove empty directories\n",
    "for Directory in newDir:\n",
    "    fileExist = exists(Directory)\n",
    "    if(fileExist == False):\n",
    "        newDir.remove(Directory)\n",
    "\n"
   ]
  },
  {
   "cell_type": "code",
   "execution_count": null,
   "metadata": {},
   "outputs": [],
   "source": [
    "import math\n",
    "def calcDis(a,b):\n",
    "    xfirst = a[0]\n",
    "    yfirst = a[1]\n",
    "    \n",
    "    xsecond = b[0]\n",
    "    ysecond = b[1]\n",
    "    return math.sqrt(((xsecond-xfirst)* (xsecond - xfirst)) + ((ysecond-yfirst) * (ysecond - yfirst)))\n",
    "\n",
    "def FaceAllignRotate(PhotoDirectory):\n",
    "    #Now we have to allign each face based on the angle of their eyes\n",
    "    #for PhotoDirectory in Dir:\n",
    "    try:\n",
    "        EyeDat = cv2.CascadeClassifier(\"TrainingData/haarcascade_eye.xml\")\n",
    "        PhotoToAllign = cv2.imread(PhotoDirectory)\n",
    "        PhotoToAllign = cv2.medianBlur(PhotoToAllign, 5)  \n",
    "        gryscale = cv2.cvtColor(PhotoToAllign, cv2.COLOR_BGR2GRAY)\n",
    "        eyesLoc = EyeDat.detectMultiScale(gryscale, 1.4, 4)\n",
    "        loc = 0\n",
    "        for(eyeXcord, eyeYcord, eyeWcord, eyeHcord) in eyesLoc:\n",
    "            if(loc == 0):\n",
    "                eye1 = (eyeXcord, eyeYcord, eyeWcord, eyeHcord)\n",
    "            else:\n",
    "                eye2 = (eyeXcord, eyeYcord, eyeWcord, eyeHcord)\n",
    "            cv2.rectangle(PhotoToAllign, (eyeXcord, eyeYcord), (eyeXcord+eyeWcord, eyeYcord+eyeHcord),(0, 0, 255), 2)\n",
    "            loc = loc + 1\n",
    "    \n",
    "        #Now we determine which eye corresponds with which side of the face\n",
    "        if eye1[0] < eye2[0]:\n",
    "            leftEye = eye1\n",
    "            rightEye = eye2\n",
    "        else:\n",
    "            leftEye = eye2\n",
    "            rightEye = eye1\n",
    "        #Now we calculate the coordiantes of the eye\n",
    "        leftEyeIris = (int(leftEye[0] + (leftEye[2]/2)), int(leftEye[1] + (leftEye[3]/2)))\n",
    "        lefteyeXcord = leftEyeIris[0]\n",
    "        lefteyeYcord = leftEyeIris[1]\n",
    "        \n",
    "        RightEyeIris = (int(rightEye[0] + (rightEye[2]/2)),int(rightEye[1] + (rightEye[3]/2)))\n",
    "        righteyeXcord = RightEyeIris[0]\n",
    "        righteyeYcord = RightEyeIris[1]\n",
    "        cv2.circle(PhotoToAllign, leftEyeIris, 2, (0, 255, 0), 2)\n",
    "        cv2.circle(PhotoToAllign, RightEyeIris, 2, (0, 255, 0), 2)\n",
    "        cv2.line(PhotoToAllign, RightEyeIris, leftEyeIris, (255, 0, 0), 2)\n",
    "        \n",
    "        if leftEyeIris < RightEyeIris:\n",
    "            point = (righteyeXcord, lefteyeYcord)\n",
    "            direction = -1\n",
    "        else:\n",
    "            point = (lefteyeXcord, righteyeYcord)\n",
    "            direction = 1\n",
    "        cv2.circle(PhotoToAllign, point, 2, (255, 0, 0), 2)\n",
    "        cv2.line(PhotoToAllign, RightEyeIris, leftEyeIris, (67, 67, 67), 2)\n",
    "        cv2.line(PhotoToAllign, leftEyeIris, point, (67, 67, 67), 2)\n",
    "        cv2.line(PhotoToAllign, RightEyeIris, point, (67, 67, 67), 2)\n",
    "\n",
    "        firstCord = calcDis(leftEyeIris, point)\n",
    "        secondCord = calcDis(RightEyeIris, leftEyeIris)\n",
    "        thirdCord = calcDis(RightEyeIris, point)\n",
    "    \n",
    "        cos = (secondCord*secondCord + thirdCord*thirdCord - firstCord*firstCord) / (2*secondCord*thirdCord)\n",
    "        #cos = cos\n",
    "        \n",
    "        angle = np.arccos(cos)\n",
    "        angle = (angle * 180)\n",
    "        angle = angle / math.pi\n",
    "        \n",
    "        if(direction == -1):\n",
    "            angle = 90-angle\n",
    "        #Now we generate the new image based on the angle\n",
    "\n",
    "        imageToRototae = Image.open(PhotoDirectory)\n",
    "        rotation = angle*direction\n",
    "        #Prevents rotations that are too extreme\n",
    "        if(rotation < 20):\n",
    "            if(rotation > -20):\n",
    "                rotated = imageToRototae.rotate(rotation)\n",
    "                rotated.save(PhotoDirectory)\n",
    "    except:\n",
    "        donothing = 0"
   ]
  },
  {
   "cell_type": "code",
   "execution_count": null,
   "metadata": {},
   "outputs": [],
   "source": [
    "for direct in newDir:\n",
    "    FaceAllignRotate(direct)\n"
   ]
  },
  {
   "cell_type": "code",
   "execution_count": null,
   "metadata": {},
   "outputs": [],
   "source": [
    "#this will get all of the pictures for each person\n",
    "def getPerson(path2):\n",
    "    SolutionList = []\n",
    "    for FilepathPhotos in os.listdir('Output/' + path2 + '/'):\n",
    "        sol = path2 + '/' + FilepathPhotos\n",
    "        SolutionList.append(sol)\n",
    "    return (SolutionList)\n"
   ]
  },
  {
   "cell_type": "code",
   "execution_count": null,
   "metadata": {
    "scrolled": true
   },
   "outputs": [
    {
     "name": "stdout",
     "output_type": "stream",
     "text": [
      "AngelaMartin_10.jpg\n",
      "AngelaMartin_2.jpg\n",
      "AngelaMartin_3.jpg\n",
      "AngelaMartin_4.jpg\n",
      "AngelaMartin_5.jpg\n",
      "AngelaMartin_6.jpg\n",
      "AngelaMartin_7.jpg\n",
      "AngelaMartin_8.jpg\n",
      "AngelaMartin_9.jpg\n"
     ]
    },
    {
     "data": {
      "text/plain": [
       "['Angela Martin/AngelaMartin_10.jpg',\n",
       " 'Angela Martin/AngelaMartin_2.jpg',\n",
       " 'Angela Martin/AngelaMartin_3.jpg',\n",
       " 'Angela Martin/AngelaMartin_4.jpg',\n",
       " 'Angela Martin/AngelaMartin_5.jpg',\n",
       " 'Angela Martin/AngelaMartin_6.jpg',\n",
       " 'Angela Martin/AngelaMartin_7.jpg',\n",
       " 'Angela Martin/AngelaMartin_8.jpg',\n",
       " 'Angela Martin/AngelaMartin_9.jpg']"
      ]
     },
     "execution_count": 41,
     "metadata": {},
     "output_type": "execute_result"
    }
   ],
   "source": [
    "#num_iterations = len(CelebList)\n",
    "listceleb = []\n",
    "for people in os.listdir('Output/'):\n",
    "\n",
    "    listceleb.append(people)\n",
    "num_iterations = len(listceleb)\n",
    "\n",
    "\n",
    "a = getPerson(listceleb[1])\n",
    "a\n"
   ]
  },
  {
   "cell_type": "code",
   "execution_count": null,
   "metadata": {},
   "outputs": [
    {
     "data": {
      "text/plain": [
       "(250, 250)"
      ]
     },
     "execution_count": 42,
     "metadata": {},
     "output_type": "execute_result"
    }
   ],
   "source": [
    "(cv2.imread(newDir[5], 0)).shape"
   ]
  },
  {
   "cell_type": "code",
   "execution_count": null,
   "metadata": {},
   "outputs": [
    {
     "ename": "ValueError",
     "evalue": "cannot reshape array of size 1 into shape (90000,)",
     "output_type": "error",
     "traceback": [
      "\u001b[1;31m---------------------------------------------------------------------------\u001b[0m",
      "\u001b[1;31mValueError\u001b[0m                                Traceback (most recent call last)",
      "\u001b[1;32m~\\AppData\\Local\\Temp/ipykernel_25412/3894025770.py\u001b[0m in \u001b[0;36m<module>\u001b[1;34m\u001b[0m\n\u001b[0;32m     16\u001b[0m     \u001b[0mphoto_numbers\u001b[0m \u001b[1;33m=\u001b[0m \u001b[0mcv2\u001b[0m\u001b[1;33m.\u001b[0m\u001b[0mimread\u001b[0m\u001b[1;33m(\u001b[0m\u001b[0ma\u001b[0m\u001b[1;33m[\u001b[0m\u001b[0mi\u001b[0m\u001b[1;33m]\u001b[0m\u001b[1;33m,\u001b[0m \u001b[1;36m0\u001b[0m\u001b[1;33m)\u001b[0m\u001b[1;33m\u001b[0m\u001b[1;33m\u001b[0m\u001b[0m\n\u001b[0;32m     17\u001b[0m     \u001b[0mphoto_array\u001b[0m \u001b[1;33m=\u001b[0m \u001b[0mnp\u001b[0m\u001b[1;33m.\u001b[0m\u001b[0marray\u001b[0m\u001b[1;33m(\u001b[0m\u001b[0mphoto_numbers\u001b[0m\u001b[1;33m)\u001b[0m\u001b[1;33m\u001b[0m\u001b[1;33m\u001b[0m\u001b[0m\n\u001b[1;32m---> 18\u001b[1;33m     \u001b[0mphoto_array_reshaped\u001b[0m \u001b[1;33m=\u001b[0m \u001b[0mphoto_array\u001b[0m\u001b[1;33m.\u001b[0m\u001b[0mreshape\u001b[0m\u001b[1;33m(\u001b[0m\u001b[1;33m[\u001b[0m\u001b[1;36m90000\u001b[0m\u001b[1;33m,\u001b[0m \u001b[1;33m]\u001b[0m\u001b[1;33m)\u001b[0m\u001b[1;33m\u001b[0m\u001b[1;33m\u001b[0m\u001b[0m\n\u001b[0m\u001b[0;32m     19\u001b[0m \u001b[1;33m\u001b[0m\u001b[0m\n\u001b[0;32m     20\u001b[0m     \u001b[0mfaces\u001b[0m\u001b[1;33m.\u001b[0m\u001b[0mappend\u001b[0m\u001b[1;33m(\u001b[0m\u001b[0mphoto_array_reshaped\u001b[0m\u001b[1;33m)\u001b[0m\u001b[1;33m\u001b[0m\u001b[1;33m\u001b[0m\u001b[0m\n",
      "\u001b[1;31mValueError\u001b[0m: cannot reshape array of size 1 into shape (90000,)"
     ]
    }
   ],
   "source": [
    "# this is just a reference for what happens in meanface function\n",
    "\n",
    "\n",
    "\n",
    "number_of_photos = 10\n",
    "    #we want to iterate through all the photos\n",
    "faces = []\n",
    "    #as we iterate, we will want to append the outcomes\n",
    "    \n",
    "\n",
    "\n",
    "    \n",
    "    \n",
    "for i in range(number_of_photos):\n",
    "        \n",
    "    photo_numbers = cv2.imread(a[i], 0)\n",
    "    photo_array = np.array(photo_numbers)\n",
    "    photo_array_reshaped = photo_array.reshape([90000, ])\n",
    "    \n",
    "    faces.append(photo_array_reshaped)\n",
    "    \n",
    "    #turn the faces list into an array\n",
    "    #transpose the array\n",
    "faces = np.array(faces)\n",
    "faces = faces.T\n",
    "    \n",
    "meanface = np.mean(faces, axis = 1)\n",
    "    #sum along column direction, so axis = 1 (this is because each column is a unique image)\n",
    "    #this is the same as (sum(faces, axis = 1)/ 48)\n",
    "meanface = meanface[:, np.newaxis]"
   ]
  },
  {
   "cell_type": "markdown",
   "metadata": {},
   "source": [
    "# Issues that I'm running into:\n",
    "\n",
    "- the photos aren't all equal pixel sizes (shaped into 250 by 250) so the reshaping from array into vecotr is having issues. Cannot mean arrays of different sizes"
   ]
  },
  {
   "cell_type": "code",
   "execution_count": null,
   "metadata": {},
   "outputs": [
    {
     "data": {
      "image/png": "[encoded data removed]",
      "text/plain": [
       "<Figure size 432x288 with 1 Axes>"
      ]
     },
     "metadata": {
      "needs_background": "light"
     },
     "output_type": "display_data"
    }
   ],
   "source": [
    "viewvector(meanface(newDir))"
   ]
  },
  {
   "cell_type": "code",
   "execution_count": null,
   "metadata": {},
   "outputs": [
    {
     "ename": "ValueError",
     "evalue": "cannot reshape array of size 1996064 into shape (62500,)",
     "output_type": "error",
     "traceback": [
      "\u001b[0;31m---------------------------------------------------------------------------\u001b[0m",
      "\u001b[0;31mValueError\u001b[0m                                Traceback (most recent call last)",
      "\u001b[0;32m<ipython-input-44-508c683a29a2>\u001b[0m in \u001b[0;36m<module>\u001b[0;34m\u001b[0m\n\u001b[1;32m      3\u001b[0m     \u001b[0ma\u001b[0m \u001b[0;34m=\u001b[0m \u001b[0mgetPerson\u001b[0m\u001b[0;34m(\u001b[0m\u001b[0mCelebList\u001b[0m\u001b[0;34m[\u001b[0m\u001b[0mi\u001b[0m\u001b[0;34m]\u001b[0m\u001b[0;34m)\u001b[0m\u001b[0;34m\u001b[0m\u001b[0;34m\u001b[0m\u001b[0m\n\u001b[1;32m      4\u001b[0m \u001b[0;34m\u001b[0m\u001b[0m\n\u001b[0;32m----> 5\u001b[0;31m     \u001b[0mmeanface\u001b[0m\u001b[0;34m(\u001b[0m\u001b[0ma\u001b[0m\u001b[0;34m)\u001b[0m\u001b[0;34m\u001b[0m\u001b[0;34m\u001b[0m\u001b[0m\n\u001b[0m",
      "\u001b[0;32m<ipython-input-29-a5d994c2263d>\u001b[0m in \u001b[0;36mmeanface\u001b[0;34m(newDir)\u001b[0m\n\u001b[1;32m     17\u001b[0m         \u001b[0mphoto_numbers\u001b[0m \u001b[0;34m=\u001b[0m \u001b[0mcv2\u001b[0m\u001b[0;34m.\u001b[0m\u001b[0mimread\u001b[0m\u001b[0;34m(\u001b[0m\u001b[0mphotosDirectory_1\u001b[0m\u001b[0;34m[\u001b[0m\u001b[0mi\u001b[0m\u001b[0;34m]\u001b[0m\u001b[0;34m,\u001b[0m \u001b[0;36m0\u001b[0m\u001b[0;34m)\u001b[0m\u001b[0;34m\u001b[0m\u001b[0;34m\u001b[0m\u001b[0m\n\u001b[1;32m     18\u001b[0m         \u001b[0mphoto_array\u001b[0m \u001b[0;34m=\u001b[0m \u001b[0mnp\u001b[0m\u001b[0;34m.\u001b[0m\u001b[0marray\u001b[0m\u001b[0;34m(\u001b[0m\u001b[0mphoto_numbers\u001b[0m\u001b[0;34m)\u001b[0m\u001b[0;34m\u001b[0m\u001b[0;34m\u001b[0m\u001b[0m\n\u001b[0;32m---> 19\u001b[0;31m         \u001b[0mphoto_array_reshaped\u001b[0m \u001b[0;34m=\u001b[0m \u001b[0mphoto_array\u001b[0m\u001b[0;34m.\u001b[0m\u001b[0mreshape\u001b[0m\u001b[0;34m(\u001b[0m\u001b[0;34m[\u001b[0m\u001b[0;36m62500\u001b[0m\u001b[0;34m,\u001b[0m \u001b[0;34m]\u001b[0m\u001b[0;34m)\u001b[0m\u001b[0;34m\u001b[0m\u001b[0;34m\u001b[0m\u001b[0m\n\u001b[0m\u001b[1;32m     20\u001b[0m \u001b[0;34m\u001b[0m\u001b[0m\n\u001b[1;32m     21\u001b[0m         \u001b[0mfaces\u001b[0m\u001b[0;34m.\u001b[0m\u001b[0mappend\u001b[0m\u001b[0;34m(\u001b[0m\u001b[0mphoto_array_reshaped\u001b[0m\u001b[0;34m)\u001b[0m\u001b[0;34m\u001b[0m\u001b[0;34m\u001b[0m\u001b[0m\n",
      "\u001b[0;31mValueError\u001b[0m: cannot reshape array of size 1996064 into shape (62500,)"
     ]
    }
   ],
   "source": [
    "menafaces = []\n",
    "for i in range(10):\n",
    "    a = getPerson(CelebList[i])\n",
    "    \n",
    "    meanface(a)"
   ]
  },
  {
   "cell_type": "code",
   "execution_count": null,
   "metadata": {},
   "outputs": [
    {
     "ename": "FileNotFoundError",
     "evalue": "[Errno 2] No such file or directory: 'Output/DatasetsToTest/TheOfficeDataset/Characters/Jan Levinson/'",
     "output_type": "error",
     "traceback": [
      "\u001b[0;31m---------------------------------------------------------------------------\u001b[0m",
      "\u001b[0;31mFileNotFoundError\u001b[0m                         Traceback (most recent call last)",
      "\u001b[0;32m<ipython-input-66-cb6b7e324a0d>\u001b[0m in \u001b[0;36m<module>\u001b[0;34m\u001b[0m\n\u001b[0;32m----> 1\u001b[0;31m \u001b[0ma\u001b[0m \u001b[0;34m=\u001b[0m \u001b[0mgetPerson\u001b[0m\u001b[0;34m(\u001b[0m\u001b[0mCelebList\u001b[0m\u001b[0;34m[\u001b[0m\u001b[0;36m0\u001b[0m\u001b[0;34m]\u001b[0m\u001b[0;34m)\u001b[0m\u001b[0;34m\u001b[0m\u001b[0;34m\u001b[0m\u001b[0m\n\u001b[0m\u001b[1;32m      2\u001b[0m \u001b[0mpath2\u001b[0m\u001b[0;34m\u001b[0m\u001b[0;34m\u001b[0m\u001b[0m\n",
      "\u001b[0;32m<ipython-input-64-d3b2dc662f9b>\u001b[0m in \u001b[0;36mgetPerson\u001b[0;34m(path2)\u001b[0m\n\u001b[1;32m      2\u001b[0m \u001b[0;32mdef\u001b[0m \u001b[0mgetPerson\u001b[0m\u001b[0;34m(\u001b[0m\u001b[0mpath2\u001b[0m\u001b[0;34m)\u001b[0m\u001b[0;34m:\u001b[0m\u001b[0;34m\u001b[0m\u001b[0;34m\u001b[0m\u001b[0m\n\u001b[1;32m      3\u001b[0m     \u001b[0mSolutionList\u001b[0m \u001b[0;34m=\u001b[0m \u001b[0;34m[\u001b[0m\u001b[0;34m]\u001b[0m\u001b[0;34m\u001b[0m\u001b[0;34m\u001b[0m\u001b[0m\n\u001b[0;32m----> 4\u001b[0;31m     \u001b[0;32mfor\u001b[0m \u001b[0mFilepathPhotos\u001b[0m \u001b[0;32min\u001b[0m \u001b[0mos\u001b[0m\u001b[0;34m.\u001b[0m\u001b[0mlistdir\u001b[0m\u001b[0;34m(\u001b[0m\u001b[0;34m'Output/'\u001b[0m \u001b[0;34m+\u001b[0m \u001b[0mpath2\u001b[0m \u001b[0;34m+\u001b[0m \u001b[0;34m'/'\u001b[0m\u001b[0;34m)\u001b[0m\u001b[0;34m:\u001b[0m\u001b[0;34m\u001b[0m\u001b[0;34m\u001b[0m\u001b[0m\n\u001b[0m\u001b[1;32m      5\u001b[0m \u001b[0;34m\u001b[0m\u001b[0m\n\u001b[1;32m      6\u001b[0m         \u001b[0mprint\u001b[0m\u001b[0;34m(\u001b[0m\u001b[0mFilepathPhotos\u001b[0m\u001b[0;34m)\u001b[0m\u001b[0;34m\u001b[0m\u001b[0;34m\u001b[0m\u001b[0m\n",
      "\u001b[0;31mFileNotFoundError\u001b[0m: [Errno 2] No such file or directory: 'Output/DatasetsToTest/TheOfficeDataset/Characters/Jan Levinson/'"
     ]
    }
   ],
   "source": [
    "getPerson(CelebList[0])"
   ]
  },
  {
   "cell_type": "code",
   "execution_count": null,
   "metadata": {},
   "outputs": [
    {
     "data": {
      "text/plain": [
       "(300, 300)"
      ]
     },
     "execution_count": 60,
     "metadata": {},
     "output_type": "execute_result"
    }
   ],
   "source": [
    "cv2.imread(a[1], 0).shape"
   ]
  },
  {
   "cell_type": "code",
   "execution_count": null,
   "metadata": {},
   "outputs": [],
   "source": [
    "faces = []\n",
    "photo_array = np.array(cv2.imread(a[1], 0))\n",
    "photo_array_reshaped = photo_array.reshape([62500, ])\n",
    "    \n",
    "faces.append(photo_array_reshaped)"
   ]
  },
  {
   "cell_type": "code",
   "execution_count": null,
   "metadata": {},
   "outputs": [],
   "source": [
    "#this will get all of the pictures for each person\n",
    "def getPerson(path2):    \n",
    "    SolutionList = []\n",
    "    for FilepathPhotos in os.listdir('Output/' + path2 + '/'):\n",
    "\n",
    "        print(FilepathPhotos)\n",
    "        sol = 'Output/' + path2 + '/' + FilepathPhotos\n",
    "        SolutionList.append(sol)\n",
    "    return (SolutionList)"
   ]
  },
  {
   "cell_type": "code",
   "execution_count": null,
   "metadata": {},
   "outputs": [
    {
     "ename": "IndexError",
     "evalue": "index 0 is out of bounds for axis 0 with size 0",
     "output_type": "error",
     "traceback": [
      "\u001b[0;31m---------------------------------------------------------------------------\u001b[0m",
      "\u001b[0;31mIndexError\u001b[0m                                Traceback (most recent call last)",
      "\u001b[0;32m<ipython-input-63-6e8449b76501>\u001b[0m in \u001b[0;36m<module>\u001b[0;34m\u001b[0m\n\u001b[1;32m     10\u001b[0m \u001b[0;32mfor\u001b[0m \u001b[0mi\u001b[0m \u001b[0;32min\u001b[0m \u001b[0mrange\u001b[0m \u001b[0;34m(\u001b[0m\u001b[0mnum_iterations\u001b[0m\u001b[0;34m)\u001b[0m\u001b[0;34m:\u001b[0m\u001b[0;34m\u001b[0m\u001b[0;34m\u001b[0m\u001b[0m\n\u001b[1;32m     11\u001b[0m     \u001b[0mpersonDirectory\u001b[0m \u001b[0;34m=\u001b[0m \u001b[0mgetPerson\u001b[0m\u001b[0;34m(\u001b[0m\u001b[0mlistceleb\u001b[0m\u001b[0;34m[\u001b[0m\u001b[0mi\u001b[0m\u001b[0;34m]\u001b[0m\u001b[0;34m)\u001b[0m\u001b[0;34m\u001b[0m\u001b[0;34m\u001b[0m\u001b[0m\n\u001b[0;32m---> 12\u001b[0;31m     \u001b[0mmeanface\u001b[0m \u001b[0;34m=\u001b[0m \u001b[0mmeanface\u001b[0m\u001b[0;34m(\u001b[0m\u001b[0mpersonDirectory\u001b[0m\u001b[0;34m)\u001b[0m\u001b[0;34m\u001b[0m\u001b[0;34m\u001b[0m\u001b[0m\n\u001b[0m\u001b[1;32m     13\u001b[0m     \u001b[0mmeanfaces\u001b[0m\u001b[0;34m.\u001b[0m\u001b[0mappend\u001b[0m\u001b[0;34m(\u001b[0m\u001b[0mmeanface\u001b[0m\u001b[0;34m)\u001b[0m\u001b[0;34m\u001b[0m\u001b[0;34m\u001b[0m\u001b[0m\n",
      "\u001b[0;32m<ipython-input-29-a5d994c2263d>\u001b[0m in \u001b[0;36mmeanface\u001b[0;34m(newDir)\u001b[0m\n\u001b[1;32m     15\u001b[0m     \u001b[0;32mfor\u001b[0m \u001b[0mi\u001b[0m \u001b[0;32min\u001b[0m \u001b[0mrange\u001b[0m\u001b[0;34m(\u001b[0m\u001b[0mnumber_of_photos\u001b[0m\u001b[0;34m)\u001b[0m\u001b[0;34m:\u001b[0m\u001b[0;34m\u001b[0m\u001b[0;34m\u001b[0m\u001b[0m\n\u001b[1;32m     16\u001b[0m \u001b[0;34m\u001b[0m\u001b[0m\n\u001b[0;32m---> 17\u001b[0;31m         \u001b[0mphoto_numbers\u001b[0m \u001b[0;34m=\u001b[0m \u001b[0mcv2\u001b[0m\u001b[0;34m.\u001b[0m\u001b[0mimread\u001b[0m\u001b[0;34m(\u001b[0m\u001b[0mphotosDirectory_1\u001b[0m\u001b[0;34m[\u001b[0m\u001b[0mi\u001b[0m\u001b[0;34m]\u001b[0m\u001b[0;34m,\u001b[0m \u001b[0;36m0\u001b[0m\u001b[0;34m)\u001b[0m\u001b[0;34m\u001b[0m\u001b[0;34m\u001b[0m\u001b[0m\n\u001b[0m\u001b[1;32m     18\u001b[0m         \u001b[0mphoto_array\u001b[0m \u001b[0;34m=\u001b[0m \u001b[0mnp\u001b[0m\u001b[0;34m.\u001b[0m\u001b[0marray\u001b[0m\u001b[0;34m(\u001b[0m\u001b[0mphoto_numbers\u001b[0m\u001b[0;34m)\u001b[0m\u001b[0;34m\u001b[0m\u001b[0;34m\u001b[0m\u001b[0m\n\u001b[1;32m     19\u001b[0m         \u001b[0mphoto_array_reshaped\u001b[0m \u001b[0;34m=\u001b[0m \u001b[0mphoto_array\u001b[0m\u001b[0;34m.\u001b[0m\u001b[0mreshape\u001b[0m\u001b[0;34m(\u001b[0m\u001b[0;34m[\u001b[0m\u001b[0;36m62500\u001b[0m\u001b[0;34m,\u001b[0m \u001b[0;34m]\u001b[0m\u001b[0;34m)\u001b[0m\u001b[0;34m\u001b[0m\u001b[0;34m\u001b[0m\u001b[0m\n",
      "\u001b[0;31mIndexError\u001b[0m: index 0 is out of bounds for axis 0 with size 0"
     ]
    }
   ],
   "source": [
    "meanfaces = []\n",
    "#num_iterations = len(CelebList)\n",
    "listceleb = []\n",
    "for b in os.listdir('Output/'):\n",
    "\n",
    "    listceleb.append(b)\n",
    "num_iterations = len(listceleb)\n",
    "\n",
    "#print(os.listdir('Output/'))\n",
    "for i in range (num_iterations):\n",
    "    personDirectory = getPerson(listceleb[i])\n",
    "    meanface = meanface(personDirectory)\n",
    "    meanfaces.append(meanface)"
   ]
  },
  {
   "cell_type": "code",
   "execution_count": null,
   "metadata": {},
   "outputs": [
    {
     "ename": "FileNotFoundError",
     "evalue": "[Errno 2] No such file or directory: 'Output/DatasetsToTest/TheOfficeDataset/Characters/Creed Bratton/'",
     "output_type": "error",
     "traceback": [
      "\u001b[0;31m---------------------------------------------------------------------------\u001b[0m",
      "\u001b[0;31mFileNotFoundError\u001b[0m                         Traceback (most recent call last)",
      "\u001b[0;32m<ipython-input-70-40736416f275>\u001b[0m in \u001b[0;36m<module>\u001b[0;34m\u001b[0m\n\u001b[0;32m----> 1\u001b[0;31m \u001b[0mgetPerson\u001b[0m\u001b[0;34m(\u001b[0m\u001b[0mCelebList\u001b[0m\u001b[0;34m[\u001b[0m\u001b[0;36m1\u001b[0m\u001b[0;34m]\u001b[0m\u001b[0;34m)\u001b[0m\u001b[0;34m\u001b[0m\u001b[0;34m\u001b[0m\u001b[0m\n\u001b[0m",
      "\u001b[0;32m<ipython-input-69-d99e91c65d97>\u001b[0m in \u001b[0;36mgetPerson\u001b[0;34m(path2)\u001b[0m\n\u001b[1;32m      2\u001b[0m \u001b[0;32mdef\u001b[0m \u001b[0mgetPerson\u001b[0m\u001b[0;34m(\u001b[0m\u001b[0mpath2\u001b[0m\u001b[0;34m)\u001b[0m\u001b[0;34m:\u001b[0m\u001b[0;34m\u001b[0m\u001b[0;34m\u001b[0m\u001b[0m\n\u001b[1;32m      3\u001b[0m     \u001b[0mSolutionList\u001b[0m \u001b[0;34m=\u001b[0m \u001b[0;34m[\u001b[0m\u001b[0;34m]\u001b[0m\u001b[0;34m\u001b[0m\u001b[0;34m\u001b[0m\u001b[0m\n\u001b[0;32m----> 4\u001b[0;31m     \u001b[0;32mfor\u001b[0m \u001b[0mFilepathPhotos\u001b[0m \u001b[0;32min\u001b[0m \u001b[0mos\u001b[0m\u001b[0;34m.\u001b[0m\u001b[0mlistdir\u001b[0m\u001b[0;34m(\u001b[0m\u001b[0;34m'Output/'\u001b[0m \u001b[0;34m+\u001b[0m \u001b[0mpath2\u001b[0m \u001b[0;34m+\u001b[0m \u001b[0;34m'/'\u001b[0m\u001b[0;34m)\u001b[0m\u001b[0;34m:\u001b[0m\u001b[0;34m\u001b[0m\u001b[0;34m\u001b[0m\u001b[0m\n\u001b[0m\u001b[1;32m      5\u001b[0m \u001b[0;34m\u001b[0m\u001b[0m\n\u001b[1;32m      6\u001b[0m         \u001b[0mprint\u001b[0m\u001b[0;34m(\u001b[0m\u001b[0mFilepathPhotos\u001b[0m\u001b[0;34m)\u001b[0m\u001b[0;34m\u001b[0m\u001b[0;34m\u001b[0m\u001b[0m\n",
      "\u001b[0;31mFileNotFoundError\u001b[0m: [Errno 2] No such file or directory: 'Output/DatasetsToTest/TheOfficeDataset/Characters/Creed Bratton/'"
     ]
    }
   ],
   "source": [
    "getPerson(CelebList[1])"
   ]
  },
  {
   "cell_type": "code",
   "execution_count": null,
   "metadata": {},
   "outputs": [],
   "source": []
  }
 ],
 "metadata": {
  "interpreter": {
   "hash": "409fd63ae0ed843f46d52ddbf6d5110d5f4156ce680b24ebaeed7f1f43c8d2b4"
  },
  "kernelspec": {
   "display_name": "Python 3",
   "language": "python",
   "name": "python3"
  },
  "language_info": {
   "codemirror_mode": {
    "name": "ipython",
    "version": 3
   },
   "file_extension": ".py",
   "mimetype": "text/x-python",
   "name": "python",
   "nbconvert_exporter": "python",
   "pygments_lexer": "ipython3",
   "version": "3.9.4"
  }
 },
 "nbformat": 4,
 "nbformat_minor": 2
}
