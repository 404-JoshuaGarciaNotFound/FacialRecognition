{
 "cells": [
  {
   "cell_type": "code",
   "execution_count": 183,
   "metadata": {},
   "outputs": [],
   "source": [
    "import os\n",
    "import cv2\n",
    "import numpy as np\n",
    "from matplotlib import pyplot as plt\n",
    "import numpy as np\n",
    "from PIL import Image\n",
    "\n",
    "import numpy as np\n",
    "#matrix operations- matlab is better for matrix, but this helps python\n",
    "import scipy.io as sio\n",
    "import matplotlib\n",
    "import matplotlib.pyplot as plt\n",
    "from numpy.matlib import repmat\n",
    "#contains some operations done in matlab\n",
    "from sklearn.preprocessing import normalize\n",
    "#huge library for ML- use normalize- convert vector to unit vector\n",
    "\n",
    "%matplotlib inline"
   ]
  },
  {
   "cell_type": "code",
   "execution_count": 184,
   "metadata": {},
   "outputs": [],
   "source": [
    "filePathToClear = 'Output/'\n",
    "if os.path.exists(filePathToClear):\n",
    "    for celebDir in os.listdir(filePathToClear):\n",
    "        try:\n",
    "            for imagePath in os.listdir('Output/' + celebDir):\n",
    "                os.remove('Output/' + celebDir + '/' + imagePath)\n",
    "            os.rmdir('Output/' + celebDir)\n",
    "        except:\n",
    "            emptyDir = 0\n",
    "else:\n",
    "    os.mkdir(filePathToClear)\n",
    "    "
   ]
  },
  {
   "cell_type": "code",
   "execution_count": 186,
   "metadata": {},
   "outputs": [],
   "source": [
    "#This code will clear what ever is in outputMeanFaces\n",
    "filePathToClear = 'OutputMeanFace/'\n",
    "if os.path.exists(filePathToClear):\n",
    "    for photo in os.listdir(filePathToClear):\n",
    "        try:\n",
    "            os.remove(filePathToClear + photo)\n",
    "        except: \n",
    "            fileNotFound = 0"
   ]
  },
  {
   "cell_type": "code",
   "execution_count": 187,
   "metadata": {},
   "outputs": [],
   "source": [
    "#this is from Cogs 118B HW 4\n",
    "\n",
    "def eigsort(V, eigvals):\n",
    "# Sort the eigenvalues from largest to smallest. Store the sorted # eigenvalues in the column vector lambd.\n",
    "    lohival = np.sort(eigvals)\n",
    "    lohiindex = np.argsort(eigvals)\n",
    "    lambd = np.flip(lohival)\n",
    "    index = np.flip(lohiindex)\n",
    "    Dsort = np.diag(lambd)\n",
    "    # Sort eigenvectors to correspond to the ordered eigenvalues. Store sorted\n",
    "\n",
    "    # eigenvectors as columns of the matrix vsort.\n",
    "    M = np.size(lambd) \n",
    "    Vsort = np.zeros((M, M)) \n",
    "    for i in range(M):\n",
    "        Vsort[:,i] = V[:,index[i]] \n",
    "    return Vsort, Dsort\n",
    "\n",
    "def normc(Mat):\n",
    "    return normalize(Mat, norm='l2', axis=0)\n",
    "\n",
    "def viewvector(columnvector):\n",
    "    #This transforms the numeric vector(62500,0) of the image back into a 250 by 250 image\n",
    "    \n",
    "    plt.imshow(columnvector.reshape([250, 250], order='C'), cmap=plt.get_cmap('gray'))\n",
    "    plt.axis('off')"
   ]
  },
  {
   "cell_type": "code",
   "execution_count": 188,
   "metadata": {},
   "outputs": [],
   "source": [
    "def meanface(celebImagePaths):\n",
    "    #we want to iterate through all the photos\n",
    "    faces = []\n",
    "    #as we iterate, we will want to append the outcomes\n",
    "    \n",
    "    for imagePath in celebImagePaths:\n",
    "        photo = cv2.imread(imagePath, 0)\n",
    "        photo = np.array(photo)\n",
    "        photo = photo.reshape([62500, ])\n",
    "    \n",
    "        faces.append(photo)\n",
    "    \n",
    "    #turn the faces list into an array\n",
    "    #transpose the array\n",
    "    faces = np.array(faces)\n",
    "    faces = faces.T\n",
    "    \n",
    "    meanface = np.mean(faces, axis = 1)\n",
    "    #sum along column direction, so axis = 1 (this is because each column is a unique image)\n",
    "    #this is the same as (sum(faces, axis = 1)/ 48)\n",
    "    meanface = meanface[:, np.newaxis].astype(int) #convert back to int value\n",
    "    return meanface"
   ]
  },
  {
   "cell_type": "code",
   "execution_count": 189,
   "metadata": {},
   "outputs": [],
   "source": [
    "def PCA(newDir):\n",
    "    \n",
    "    photosDirectory_1 = np.array(newDir)\n",
    "    \n",
    "    number_of_photos = len(newDir) - 1 #length will give an out of bounds index\n",
    "    #we want to iterate through all the photos\n",
    "    faces = []\n",
    "    #as we iterate, we will want to append the outcomes\n",
    "    \n",
    "    for i in range(number_of_photos):\n",
    "    \n",
    "        #for photo in photo directory\n",
    "        #get the numeric interpretation\n",
    "        #turn that into an array\n",
    "        #Reshape the 250 pixels by 250 pixels into a vector\n",
    "        #append the vector to the faces list\n",
    "        \n",
    "        photo_numbers = cv2.imread(photosDirectory_1[i], 0)\n",
    "        photo_array = np.array(photo_numbers)\n",
    "        photo_array_reshaped = photo_array.reshape([62500, ])\n",
    "    \n",
    "        faces.append(photo_array_reshaped)\n",
    "    \n",
    "    #turn the faces list into an array\n",
    "    #transpose the array\n",
    "    faces = np.array(faces)\n",
    "    faces = faces.T\n",
    "    \n",
    "    meanface = np.mean(faces, axis = 1)\n",
    "    #sum along column direction, so axis = 1 (this is because each column is a unique image)\n",
    "    #this is the same as (sum(faces, axis = 1)/ 48)\n",
    "    meanface = meanface[:, np.newaxis]\n",
    "    \n",
    "    A = faces - np.matlib.repmat(meanface, 1, number_of_photos)\n",
    "    \n",
    "    eigvals, Vold = np.linalg.eig(A.T.dot(A))\n",
    "    V, D = eigsort(Vold, eigvals)\n",
    "    \n",
    "    U = A.dot(V)\n",
    "    U = normc(U)\n",
    "    c = U.T.dot(A)\n",
    "    \n",
    "    return c\n",
    "    "
   ]
  },
  {
   "cell_type": "markdown",
   "metadata": {},
   "source": [
    "Creating list of filepaths in output directory"
   ]
  },
  {
   "cell_type": "code",
   "execution_count": 190,
   "metadata": {},
   "outputs": [],
   "source": [
    "from PIL import Image\n",
    "\n",
    "#First we load all of our files. \n",
    "def readAllFiles(datasetDir):\n",
    "    photosDirectory = []\n",
    "    celebList = []\n",
    "    for celebName in os.listdir(datasetDir):\n",
    "        path = datasetDir + celebName \n",
    "        celebList.append(path)\n",
    "        pathForTemp = \"Output/\" + celebName\n",
    "        if not os.path.exists(pathForTemp):\n",
    "            os.mkdir(pathForTemp)\n",
    "            #This is just to skip the file already exists error\n",
    "        for photoFileName in os.listdir(path):\n",
    "            photoFullPath = path + \"/\" + photoFileName\n",
    "            photosDirectory.append(photoFullPath)\n",
    "            #Dont run this code it opens every single image. (Good to see what images are being used)\n",
    "            #image = Image.open(pathForPhoto) \n",
    "            #image.show()\n",
    "    return photosDirectory, celebList\n",
    "#photosDirectory stores the file path for each image we are gonna use\n",
    "#photosDirectory\n",
    "\n"
   ]
  },
  {
   "cell_type": "code",
   "execution_count": 191,
   "metadata": {},
   "outputs": [],
   "source": [
    "path = 'DatasetsToTest/TheOfficeDataset/Characters/'\n",
    "photosDirectory, celebList = readAllFiles(path)"
   ]
  },
  {
   "cell_type": "code",
   "execution_count": 192,
   "metadata": {},
   "outputs": [],
   "source": [
    "#Now we make a function that finds the faces of each picture\n",
    "faceData = cv2.CascadeClassifier(\"TrainingData/haarcascade_frontalface_default.xml\")\n",
    "eyeData = cv2.CascadeClassifier(\"TrainingData/haarcascade_eye.xml\")\n",
    "def faceDetect(path, newDir):\n",
    "    \n",
    "    Photo = cv2.imread(path)\n",
    "    #Blur to remove extra noise\n",
    "    Photo2 = cv2.medianBlur(Photo, 3) \n",
    "    grysc = cv2.cvtColor(Photo2, cv2.COLOR_BGR2GRAY)\n",
    "    faceDetected = faceData.detectMultiScale(grysc, 1.1, 4)\n",
    "    eyeDetected = eyeData.detectMultiScale(grysc, 1.3, 4)\n",
    "    #This area ensures only one face is found per image\n",
    "    facialPadding = 15\n",
    "    #The way the algorithm works is it puts faces its less confident in first and most confident last so if multiple pictures are found we just pick the last one.\n",
    "    #Should work most of the time\n",
    "    faceFound = False\n",
    "    if(len(faceDetected) != 1):\n",
    "        \n",
    "        #Gets eye coordinate\n",
    "        count = 0\n",
    "        eye1xCoord = 0\n",
    "        eye1yCoord = 0\n",
    "        eye2xCoord = 0\n",
    "        eye2yCoord = 0\n",
    "        for(ex, ey, ew, eh) in eyeDetected:\n",
    "            #Ensures only two eyes are added to the image\n",
    "            if(count < 2):\n",
    "                #cv2.rectangle(Photo, ((ex), (ey)),((ex+ew), (ey+eh)), (0, 0, 255), 2)\n",
    "                cv2.imwrite(newDir, Photo, [cv2.IMWRITE_JPEG_QUALITY, 100])\n",
    "                if(count == 0):\n",
    "                    eye1xCoord = ex\n",
    "                    eye1yCoord = ey\n",
    "                if(count == 1):\n",
    "                    eye2xCoord = ex\n",
    "                    eye2yCoord = ey\n",
    "                count = count + 1\n",
    "        \n",
    "        numFaces = len(faceDetected)\n",
    "        \n",
    "        for i in range(numFaces):\n",
    "            x1, y1, w1, h1 = faceDetected[i]\n",
    "            xrang = x1 + w1\n",
    "            yrang = y1 + h1\n",
    "            if(eye1xCoord, eye2yCoord != 0):\n",
    "                eye1Exist = True\n",
    "            if(eye2xCoord, eye2yCoord != 0):\n",
    "                eye2Exist = True\n",
    "            #if eyes arent found then we shouldn't put the face because it could lead to errors in our mean faces.\n",
    "            if(eye1Exist, eye2Exist == True):\n",
    "                if(faceFound == False):\n",
    "                    if(eye1xCoord > x1):\n",
    "                        if(eye1xCoord < xrang):  \n",
    "                            if(eye1yCoord > y1):\n",
    "                                if(eye1yCoord < yrang):\n",
    "                                    faceFound = True\n",
    "                                    #For our paper we can use these rectangles to visualize what we are doing\n",
    "                                    #cv2.rectangle(Photo, ((x1 - facialPadding), (y1 - facialPadding)),((x1+w1+facialPadding), (y1+h1+facialPadding)), (134, 255, 20), 2)\n",
    "                                    faceModified = Photo[y1-facialPadding:y1 +facialPadding+h1, x1-facialPadding:x1+facialPadding+w1]\n",
    "                                    photo = cv2.resize(faceModified, (250, 250))\n",
    "                                    cv2.imwrite(newDir, photo, [cv2.IMWRITE_JPEG_QUALITY, 100])\n",
    "\n",
    "    else:\n",
    "        (x, y, w, h) = faceDetected[0]\n",
    "        faceFound = True\n",
    "        faceModified = Photo[y-facialPadding:y+facialPadding+h,x-facialPadding:x+facialPadding+w]\n",
    "        photo1 = cv2.resize(faceModified, (250, 250))\n",
    "        cv2.imwrite(newDir, photo1, [cv2.IMWRITE_JPEG_QUALITY, 100])\n",
    "        \n",
    "    if(faceFound == False):\n",
    "        #Delete faces that couldn't be centered\n",
    "        print('No face found: ' + newDir)\n",
    "        try:\n",
    "            os.remove(newDir)\n",
    "        except:\n",
    "            alreadyRemoved = 0\n"
   ]
  },
  {
   "cell_type": "code",
   "execution_count": 193,
   "metadata": {},
   "outputs": [
    {
     "name": "stdout",
     "output_type": "stream",
     "text": [
      "No face found: Output/Angela Martin/AngelaMartin_1.jpg\n",
      "No face found: Output/Angela Martin/AngelaMartin_8.jpg\n",
      "No face found: Output/Darryl Philbin/DarrylPhilbin_3.jpg\n",
      "No face found: Output/Dwight Schrute/DwightSchrute_7.jpg\n",
      "No face found: Output/Erin Hannon/ErinHannon_5.jpg\n",
      "No face found: Output/Erin Hannon/ErinHannon_8.jpg\n",
      "No face found: Output/Kelly Kapoor/KellyKapoor_6.jpg\n",
      "No face found: Output/Michael Scott/MichaelScott_4.jpg\n",
      "No face found: Output/Pam Beesly/PamBeesly_7.jpg\n"
     ]
    }
   ],
   "source": [
    "allOutputPaths = []\n",
    "\n",
    "#Detecting faces from source directory (path) and outputting resized images to Output/\n",
    "for photoPath in photosDirectory:\n",
    "    outputPath = photoPath.replace(path, \"Output/\") #Creating output filepath\n",
    "    faceDetect(photoPath, outputPath) #Writing images to outputPaths\n",
    "    allOutputPaths.append(outputPath) #Saving filepath of output image"
   ]
  },
  {
   "cell_type": "code",
   "execution_count": null,
   "metadata": {},
   "outputs": [],
   "source": []
  },
  {
   "cell_type": "code",
   "execution_count": 194,
   "metadata": {},
   "outputs": [],
   "source": [
    "#remove empty files\n",
    "for file in allOutputPaths:\n",
    "    if not os.path.exists(file):\n",
    "        allOutputPaths.remove(file)"
   ]
  },
  {
   "cell_type": "code",
   "execution_count": 195,
   "metadata": {},
   "outputs": [],
   "source": [
    "import math\n",
    "\n",
    "def faceAlignRotate(imagePath):\n",
    "    #Now we have to allign each face based on the angle of their eyes\n",
    "    #for PhotoDirectory in Dir:\n",
    "    try:\n",
    "        eyeData = cv2.CascadeClassifier(\"TrainingData/haarcascade_eye.xml\")\n",
    "        photo = cv2.imread(imagePath)\n",
    "        photo = cv2.medianBlur(photo, 5)  \n",
    "        grayPhoto = cv2.cvtColor(photo, cv2.COLOR_BGR2GRAY)\n",
    "        eyesLoc = eyeData.detectMultiScale(grayPhoto, 1.4, 4)\n",
    "        loc = 0\n",
    "        for(eyeXcoord, eyeYcoord, eyeWcoord, eyeHcoord) in eyesLoc:\n",
    "            if(loc == 0):\n",
    "                eye1 = (eyeXcoord, eyeYcoord, eyeWcoord, eyeHcoord)\n",
    "            else:\n",
    "                eye2 = (eyeXcoord, eyeYcoord, eyeWcoord, eyeHcoord)\n",
    "            cv2.rectangle(photo, (eyeXcoord, eyeYcoord), (eyeXcoord+eyeWcoord, eyeYcoord+eyeHcoord),(0, 0, 255), 2)\n",
    "            loc = loc + 1\n",
    "    \n",
    "        #Now we determine which eye corresponds with which side of the face\n",
    "        if eye1[0] < eye2[0]:\n",
    "            leftEye = eye1\n",
    "            rightEye = eye2\n",
    "        else:\n",
    "            leftEye = eye2\n",
    "            rightEye = eye1\n",
    "        #Now we calculate the coordiantes of the eye\n",
    "        leftEyeIris = (int(leftEye[0] + (leftEye[2]/2)), int(leftEye[1] + (leftEye[3]/2)))\n",
    "        leftEyeXcoord = leftEyeIris[0]\n",
    "        leftEyeYcoord = leftEyeIris[1]\n",
    "        \n",
    "        rightEyeIris = (int(rightEye[0] + (rightEye[2]/2)),int(rightEye[1] + (rightEye[3]/2)))\n",
    "        rightEyeXcoord = rightEyeIris[0]\n",
    "        rightEyeYcoord = rightEyeIris[1]\n",
    "        cv2.circle(photo, leftEyeIris, 2, (0, 255, 0), 2)\n",
    "        cv2.circle(photo, rightEyeIris, 2, (0, 255, 0), 2)\n",
    "        cv2.line(photo, rightEyeIris, leftEyeIris, (255, 0, 0), 2)\n",
    "        \n",
    "        if leftEyeIris < rightEyeIris:\n",
    "            point = (rightEyeXcoord, leftEyeYcoord)\n",
    "            direction = -1\n",
    "        else:\n",
    "            point = (leftEyeXcoord, rightEyeYcoord)\n",
    "            direction = 1\n",
    "        cv2.circle(photo, point, 2, (255, 0, 0), 2)\n",
    "        cv2.line(photo, rightEyeIris, leftEyeIris, (67, 67, 67), 2)\n",
    "        cv2.line(photo, leftEyeIris, point, (67, 67, 67), 2)\n",
    "        cv2.line(photo, rightEyeIris, point, (67, 67, 67), 2)\n",
    "\n",
    "        firstCoord = np.linalg.norm(np.array(leftEyeIris)-np.array(point))\n",
    "        secondCoord = np.linalg.norm(np.array(rightEyeIris)-np.array(leftEyeIris))\n",
    "        thirdCoord = np.linalg.norm(np.array(rightEyeIris)-np.array(point))\n",
    "    \n",
    "        cos = (secondCoord**2 + thirdCoord**2 - firstCoord**2) / (2*secondCoord*thirdCoord)\n",
    "        #cos = cos\n",
    "        \n",
    "        angle = np.arccos(cos)\n",
    "        angle = (angle * 180) / math.pi #converting to degrees\n",
    "        \n",
    "        if(direction == -1):\n",
    "            angle = 90-angle\n",
    "        #Now we generate the new image based on the angle\n",
    "\n",
    "        imageToRotate = Image.open(imagePath)\n",
    "        rotation = angle*direction\n",
    "        #Prevents rotations that are too extreme\n",
    "        if(rotation < 20):\n",
    "            if(rotation > -20):\n",
    "                rotated = imageToRotate.rotate(rotation)\n",
    "                rotated.save(imagePath)\n",
    "    except:\n",
    "        donothing = 0"
   ]
  },
  {
   "cell_type": "code",
   "execution_count": 196,
   "metadata": {},
   "outputs": [
    {
     "name": "stderr",
     "output_type": "stream",
     "text": [
      "C:\\Users\\j9garcia\\AppData\\Local\\Temp/ipykernel_37556/1599600266.py:55: RuntimeWarning: invalid value encountered in double_scalars\n",
      "  cos = (secondCoord**2 + thirdCoord**2 - firstCoord**2) / (2*secondCoord*thirdCoord)\n"
     ]
    }
   ],
   "source": [
    "for path in allOutputPaths:\n",
    "    faceAlignRotate(path)"
   ]
  },
  {
   "cell_type": "code",
   "execution_count": 197,
   "metadata": {},
   "outputs": [],
   "source": [
    "#this will get all of the pictures for each person\n",
    "def getCelebImagePaths(celebDir):    \n",
    "    pathList = []\n",
    "    for imagePath in os.listdir('Output/' + celebDir + '/'):\n",
    "        fullPath = 'Output/' + celebDir + '/' + imagePath\n",
    "        pathList.append(fullPath)\n",
    "    return pathList"
   ]
  },
  {
   "cell_type": "code",
   "execution_count": 198,
   "metadata": {},
   "outputs": [],
   "source": [
    "meanfaces = []\n",
    "celebList = []\n",
    "for celeb in os.listdir('Output/'):\n",
    "    celebList.append(celeb)\n",
    "    meanfaces.append(meanface(getCelebImagePaths(celeb)))"
   ]
  },
  {
   "cell_type": "code",
   "execution_count": 199,
   "metadata": {},
   "outputs": [
    {
     "data": {
      "image/png": "[encoded data removed]",
      "text/plain": [
       "<Figure size 432x288 with 1 Axes>"
      ]
     },
     "metadata": {
      "needs_background": "light"
     },
     "output_type": "display_data"
    }
   ],
   "source": [
    "viewvector(meanfaces[0])"
   ]
  },
  {
   "cell_type": "code",
   "execution_count": 200,
   "metadata": {},
   "outputs": [],
   "source": [
    "meanFolderPath = \"OutputMeanface\"\n",
    "\n",
    "if not os.path.exists(meanFolderPath):\n",
    "    os.mkdir(meanFolderPath)\n",
    "\n",
    "for i in range(len(meanfaces)):\n",
    "    cv2.imwrite(meanFolderPath + '/' + celebList[i] + \"_meanface.jpeg\", meanfaces[i].reshape([250, 250], order='C'))"
   ]
  },
  {
   "cell_type": "code",
   "execution_count": 201,
   "metadata": {},
   "outputs": [],
   "source": [
    "def guessPerson(imagePathToCheck): #use full path\n",
    "    if not os.path.exists('temp'):\n",
    "        os.mkdir('temp')\n",
    "    outputPath = 'temp/' + imagePathToCheck.split('/')[-1]\n",
    "    faceDetect(imagePathToCheck, outputPath) #Writing image to outputPath\n",
    "    faceAlignRotate(outputPath)\n",
    "    testPhoto = cv2.imread(outputPath, 0).astype(int)\n",
    "    \n",
    "    lowestErr = -1\n",
    "    closestPerson = ''\n",
    "    for currPath in os.listdir(meanFolderPath):\n",
    "        currMeanPhoto = cv2.imread(meanFolderPath+'/'+currPath, 0).astype(int)\n",
    "        currErr = np.linalg.norm(testPhoto - currMeanPhoto)\n",
    "        if (lowestErr == -1) or (currErr < lowestErr):\n",
    "            lowestErr = currErr\n",
    "            closestPerson = currPath\n",
    "    # folder to save to -> print(closestPerson[:-len('_meanface.jpeg')])\n",
    "    filePAth = (closestPerson[:-len('_meanface.jpeg')])\n",
    "    photo = cv2.imread(outputPath, 0)\n",
    "    cv2.imwrite(os.path.join('Output/' + filePAth + '/' + imagePathToCheck.split('/')[-1]), photo)\n",
    "    \n",
    "    os.remove(outputPath)\n",
    "    os.rmdir('temp')\n",
    "    return closestPerson[:-len('_meanface.jpeg')]\n",
    "        \n",
    "        \n"
   ]
  },
  {
   "cell_type": "code",
   "execution_count": null,
   "metadata": {},
   "outputs": [],
   "source": []
  },
  {
   "cell_type": "code",
   "execution_count": 202,
   "metadata": {},
   "outputs": [],
   "source": [
    "def updateMeans():\n",
    "    meanfaces = []\n",
    "    celebList = []\n",
    "    for celeb in os.listdir('Output/'):\n",
    "        celebList.append(celeb)\n",
    "        meanfaces.append(meanface(getCelebImagePaths(celeb)))\n",
    "    for i in range(len(meanfaces)):\n",
    "        cv2.imwrite(meanFolderPath + '/' +\n",
    "                    celebList[i] + \"_meanface.jpeg\", meanfaces[i].reshape([250, 250], order='C'))\n"
   ]
  },
  {
   "cell_type": "code",
   "execution_count": 203,
   "metadata": {},
   "outputs": [
    {
     "name": "stdout",
     "output_type": "stream",
     "text": [
      "Dwight Schrute\n",
      "Pam Beesly\n",
      "Angela Martin\n",
      "Angela Martin\n",
      "Creed Bratton\n",
      "Creed Bratton\n",
      "Kelly Kapoor\n",
      "Darryl Philbin\n",
      "Michael Scott\n",
      "Pam Beesly\n"
     ]
    },
    {
     "name": "stderr",
     "output_type": "stream",
     "text": [
      "C:\\Users\\j9garcia\\AppData\\Local\\Temp/ipykernel_37556/1599600266.py:55: RuntimeWarning: invalid value encountered in double_scalars\n",
      "  cos = (secondCoord**2 + thirdCoord**2 - firstCoord**2) / (2*secondCoord*thirdCoord)\n"
     ]
    },
    {
     "name": "stdout",
     "output_type": "stream",
     "text": [
      "Jim Halpert\n",
      "Erin Hannon\n",
      "Darryl Philbin\n",
      "Andy Bernard\n",
      "Jim Halpert\n",
      "Kelly Kapoor\n",
      "Michael Scott\n",
      "Pam Beesly\n",
      "Kelly Kapoor\n",
      "Pam Beesly\n"
     ]
    }
   ],
   "source": [
    "#PATH TO TESTFILES HERE\n",
    "pathToTest = 'DatasetsToTest/TheOfficeDataset/TestFiles/'\n",
    "#SaveToTempTest = 'TempTest/'\n",
    "#faceDetect(pathToTest, newDir):\n",
    "#To test all faces in the directory try\n",
    "directorys = os.listdir(pathToTest)\n",
    "for celebsToTest in directorys:\n",
    "    guess = guessPerson('DatasetsToTest/TheOfficeDataset/TestFiles/' + celebsToTest)\n",
    "    updateMeans()\n",
    "    print(guess)\n",
    "\n"
   ]
  },
  {
   "cell_type": "markdown",
   "metadata": {},
   "source": [
    "FOR AUDRY: \n",
    "all data inputs will have to be faceDetected and faceAlignRotated. Can follow example in guessPerson() function.\n",
    "instead of saving to temp/, they will be saved to Output/, as shown in an earlier code block\n",
    "\n",
    "Iterate through each TestInput filepath with guessPerson() and it will return who it thinks the picture is."
   ]
  },
  {
   "cell_type": "code",
   "execution_count": null,
   "metadata": {},
   "outputs": [],
   "source": []
  }
 ],
 "metadata": {
  "interpreter": {
   "hash": "409fd63ae0ed843f46d52ddbf6d5110d5f4156ce680b24ebaeed7f1f43c8d2b4"
  },
  "kernelspec": {
   "display_name": "Python 3 (ipykernel)",
   "language": "python",
   "name": "python3"
  },
  "language_info": {
   "codemirror_mode": {
    "name": "ipython",
    "version": 3
   },
   "file_extension": ".py",
   "mimetype": "text/x-python",
   "name": "python",
   "nbconvert_exporter": "python",
   "pygments_lexer": "ipython3",
   "version": "3.9.4"
  }
 },
 "nbformat": 4,
 "nbformat_minor": 2
}
