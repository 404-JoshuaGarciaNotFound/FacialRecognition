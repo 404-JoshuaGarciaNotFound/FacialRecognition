{
 "cells": [
  {
   "cell_type": "code",
   "execution_count": 221,
   "metadata": {},
   "outputs": [],
   "source": [
    "#pip install opencv-python\n"
   ]
  },
  {
   "cell_type": "code",
   "execution_count": 222,
   "metadata": {},
   "outputs": [],
   "source": [
    "import os\n",
    "import cv2\n",
    "import numpy as np\n",
    "from matplotlib import pyplot as plt\n",
    "import numpy as np\n"
   ]
  },
  {
   "cell_type": "code",
   "execution_count": 223,
   "metadata": {},
   "outputs": [],
   "source": [
    "#This is a test cell. Ideally this would be turned into a function\n",
    "#Photo = cv2.imread('TempFiles/Aaron_Eckhart/Aaron_Eckhart_0001.jpg', 0)\n",
    "#Photo = cv2.medianBlur(Photo, 5)\n",
    "#threshold3 = cv2.adaptiveThreshold(Photo, 255, cv2.ADAPTIVE_THRESH_GAUSSIAN_C,\n",
    "#                            cv2.THRESH_BINARY, 11, 2)\n"
   ]
  },
  {
   "cell_type": "code",
   "execution_count": 224,
   "metadata": {},
   "outputs": [],
   "source": [
    "#image we are modifying\n",
    "#plt.subplot(2, 2, 1), plt.imshow(Photo, 'gray')\n",
    "#plt.title('Original')\n",
    "#plt.xticks([]), plt.yticks([])\n",
    "#plt.show()\n",
    "#Gaussian Threshold\n",
    "#plt.subplot(2, 2, 4), plt.imshow(threshold3, 'gray')\n",
    "#plt.title('Threshold3')\n",
    "#plt.xticks([]), plt.yticks([])\n",
    "#plt.show()\n"
   ]
  },
  {
   "cell_type": "code",
   "execution_count": 225,
   "metadata": {},
   "outputs": [],
   "source": [
    "from PIL import Image\n",
    "\n",
    "photosDirectory = []\n",
    "\n",
    "#First we load all of our files. \n",
    "directory = 'SmallerDataSet(cleaned)/'\n",
    "for file2 in os.listdir(directory):\n",
    "    path = directory + file2 \n",
    "    pathForTemp = \"TempFiles/\" + file2\n",
    "    try:\n",
    "        os.makedirs(pathForTemp)\n",
    "    except:\n",
    "        VOID = \"do nothing :)\"\n",
    "        #This is just to skip the file already exists error\n",
    "    for FilepathPhotos in os.listdir(path):\n",
    "        pathForPhoto = path + \"/\" + FilepathPhotos\n",
    "        photosDirectory.append(pathForPhoto)\n",
    "        #Dont run this code it opens every single image. (Good to see what images are being used)\n",
    "        #image = Image.open(pathForPhoto) \n",
    "        #image.show()\n",
    "#photosDirectory stores the file path for each image we are gonna use\n",
    "#photosDirectory"
   ]
  },
  {
   "cell_type": "code",
   "execution_count": 226,
   "metadata": {},
   "outputs": [],
   "source": [
    "#Now we make a function that finds the faces of each picture\n",
    "FaceDat = cv2.CascadeClassifier(\"TrainingData/haarcascade_frontalface_default.xml\")\n",
    "EyeDat = cv2.CascadeClassifier(\"TrainingData/haarcascade_eye.xml\")\n",
    "def faceDetect(path, newDir):\n",
    "    Photo = cv2.imread(path)\n",
    "    \n",
    "    #Blur to remove extra noise\n",
    "    Photo2 = cv2.medianBlur(Photo, 3) \n",
    "    grysc = cv2.cvtColor(Photo2, cv2.COLOR_BGR2GRAY)\n",
    "    faceDetected = FaceDat.detectMultiScale(grysc, 1.1, 4)\n",
    "    eyeDetected = EyeDat.detectMultiScale(grysc, 1.3, 4)\n",
    "    #This area ensures only one face is found per image\n",
    "    facialPadding = 20\n",
    "    #The way the algorithm works is it puts faces its less confident in first and most confident last so if multiple pictures are found we just pick the last one.\n",
    "    #Should work most of the time\n",
    "    faceFound = False\n",
    "    if(len(faceDetected) != 1):\n",
    "\n",
    "        #Gets eye coordinate\n",
    "        count = 0\n",
    "        eye1xCord = 0\n",
    "        eye1ycord = 0\n",
    "        eye2xCord = 0\n",
    "        eye2ycord = 0\n",
    "        for(ex, ey, ew, eh) in eyeDetected:\n",
    "            #Ensures only two eyes are added to the image\n",
    "            if(count < 2):\n",
    "                \n",
    "                #cv2.rectangle(Photo, ((ex), (ey)),((ex+ew), (ey+eh)), (0, 0, 255), 2)\n",
    "                cv2.imwrite(newDir, Photo, [cv2.IMWRITE_JPEG_QUALITY, 100])\n",
    "                if(count == 0):\n",
    "                    eye1xCord = ex\n",
    "                    eye1ycord = ey\n",
    "                if(count == 1):\n",
    "                    eye2xCord = ex\n",
    "                    eye2ycord = ey\n",
    "                count = count + 1\n",
    "        \n",
    "        numFaces = len(faceDetected)\n",
    "        \n",
    "        for i in range(numFaces):\n",
    "            x1, y1, w1, h1 = faceDetected[i]\n",
    "            xrang = x1 + w1\n",
    "            yrang = y1 + h1\n",
    "\n",
    "            if(eye1xCord, eye2xCord != 0):\n",
    "                eye1Exist = True\n",
    "            if(eye2xCord, eye2ycord != 0):\n",
    "                eye2Exist = True\n",
    "            #if eyes arent found then we shouldn't put the face because it could lead to errors in our mean faces.\n",
    "            if(eye1Exist, eye2Exist == True):\n",
    "                if(faceFound == False):\n",
    "                    if(eye1xCord > x1):\n",
    "                        if(eye1xCord < xrang):  \n",
    "                            if(eye1ycord > y1):\n",
    "                                if(eye1ycord < yrang):\n",
    "                                    faceFound = True\n",
    "                                    #For our paper we can use these rectangles to visualize what we are doing\n",
    "                                    #cv2.rectangle(Photo, ((x1 - facialPadding), (y1 - facialPadding)),((x1+w1+facialPadding), (y1+h1+facialPadding)), (134, 255, 20), 2)\n",
    "                                    faceModified = Photo[y1-facialPadding:y1 +facialPadding+h1, x1-facialPadding:x1+facialPadding+w1]\n",
    "                                    cv2.imwrite(newDir, faceModified, [cv2.IMWRITE_JPEG_QUALITY, 100])\n",
    "\n",
    "    else:\n",
    "        (x, y, w, h) = faceDetected[0]\n",
    "        #cv2.rectangle(Photo, ((x - facialPadding), (y - facialPadding)), ((x+w+facialPadding),(y+h+facialPadding)), (255, 255, 20), 2)\n",
    "        faceFound = True\n",
    "        faceModified = Photo[y-facialPadding:y+facialPadding+h,x-facialPadding:x+facialPadding+w]\n",
    "        cv2.imwrite(newDir, faceModified)\n",
    "        \n",
    "    if(faceFound == False):\n",
    "        #Delete faces that couldn't be centered\n",
    "        try:\n",
    "            os.remove(newDir)\n",
    "        except:\n",
    "            alreadyRemoved = 0\n"
   ]
  },
  {
   "cell_type": "code",
   "execution_count": 227,
   "metadata": {},
   "outputs": [],
   "source": [
    "#This recursively draws a rectangle around all of the faces we are reading.\n",
    "for photos in photosDirectory:\n",
    "    newDir = photos.replace(\"SmallerDataSet(cleaned)\", \"TempFiles\")\n",
    "    #print(newDir)\n",
    "    faceDetect(photos, newDir)\n"
   ]
  },
  {
   "cell_type": "code",
   "execution_count": null,
   "metadata": {},
   "outputs": [],
   "source": []
  }
 ],
 "metadata": {
  "interpreter": {
   "hash": "409fd63ae0ed843f46d52ddbf6d5110d5f4156ce680b24ebaeed7f1f43c8d2b4"
  },
  "kernelspec": {
   "display_name": "Python 3.9.4 64-bit",
   "language": "python",
   "name": "python3"
  },
  "language_info": {
   "codemirror_mode": {
    "name": "ipython",
    "version": 3
   },
   "file_extension": ".py",
   "mimetype": "text/x-python",
   "name": "python",
   "nbconvert_exporter": "python",
   "pygments_lexer": "ipython3",
   "version": "3.9.4"
  },
  "orig_nbformat": 4
 },
 "nbformat": 4,
 "nbformat_minor": 2
}
